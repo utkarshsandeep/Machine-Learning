{
 "cells": [
  {
   "cell_type": "code",
   "execution_count": 70,
   "metadata": {},
   "outputs": [],
   "source": [
    "Temp_High =[10,20,33,22,25,32,35]"
   ]
  },
  {
   "cell_type": "code",
   "execution_count": 71,
   "metadata": {},
   "outputs": [],
   "source": [
    "Temp_Low =[8,16,25,18,20,28,26]"
   ]
  },
  {
   "cell_type": "code",
   "execution_count": 74,
   "metadata": {},
   "outputs": [],
   "source": [
    "Humidity = [20,0,50,40,30,70,72]"
   ]
  },
  {
   "cell_type": "code",
   "execution_count": 9,
   "metadata": {},
   "outputs": [],
   "source": [
    "Population = [20,30,60,60,80,80,90]"
   ]
  },
  {
   "cell_type": "code",
   "execution_count": 72,
   "metadata": {},
   "outputs": [],
   "source": [
    "def Values(List):\n",
    "    min_value = min(List)\n",
    "    max_value = max(List)\n",
    "    diff = max_value - min_value\n",
    "    partdiff = (diff * 33.33)/100\n",
    "    min_range = min_value + partdiff\n",
    "    mod_range = min_range + partdiff\n",
    "    final_op  = []\n",
    "    for i in List:\n",
    "        if(i<min_range):\n",
    "            final_op.append('LOW')\n",
    "        elif(i>mod_range):\n",
    "            final_op.append('HIGH')\n",
    "        else:\n",
    "            final_op.append('MOD')\n",
    "    return final_op   "
   ]
  },
  {
   "cell_type": "code",
   "execution_count": 75,
   "metadata": {},
   "outputs": [
    {
     "name": "stdout",
     "output_type": "stream",
     "text": [
      "[20, 0, 50, 40, 30, 70, 72]\n"
     ]
    }
   ],
   "source": [
    "print(Humidity)"
   ]
  },
  {
   "cell_type": "code",
   "execution_count": null,
   "metadata": {},
   "outputs": [],
   "source": []
  }
 ],
 "metadata": {
  "kernelspec": {
   "display_name": "Python 3",
   "language": "python",
   "name": "python3"
  },
  "language_info": {
   "codemirror_mode": {
    "name": "ipython",
    "version": 3
   },
   "file_extension": ".py",
   "mimetype": "text/x-python",
   "name": "python",
   "nbconvert_exporter": "python",
   "pygments_lexer": "ipython3",
   "version": "3.6.4"
  }
 },
 "nbformat": 4,
 "nbformat_minor": 2
}

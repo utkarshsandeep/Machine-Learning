{
 "cells": [
  {
   "cell_type": "code",
   "execution_count": 23,
   "metadata": {},
   "outputs": [],
   "source": [
    "import numpy as np\n",
    "from sklearn.cluster import MeanShift\n",
    "from sklearn.datasets.samples_generator import make_blobs\n",
    "import matplotlib.pyplot as plt\n",
    "from mpl_toolkits.mplot3d import Axes3D\n",
    "from matplotlib import style\n",
    "style.use(\"ggplot\")"
   ]
  },
  {
   "cell_type": "code",
   "execution_count": 65,
   "metadata": {},
   "outputs": [],
   "source": [
    "centers = [[1,1,1],[5,5,5],[10,10,10]]"
   ]
  },
  {
   "cell_type": "code",
   "execution_count": 66,
   "metadata": {},
   "outputs": [],
   "source": [
    "X, _ = make_blobs(n_samples = 20, centers = centers, cluster_std = 1.5)"
   ]
  },
  {
   "cell_type": "code",
   "execution_count": 73,
   "metadata": {},
   "outputs": [
    {
     "name": "stdout",
     "output_type": "stream",
     "text": [
      "[[ 0.33490628 -0.97279362  1.44879417]\n",
      " [ 8.51729394 12.08677551  9.87525871]\n",
      " [11.10910059  9.74161576 10.62049029]\n",
      " [-1.86525475 -2.04927667  1.01436514]\n",
      " [ 6.50133635  4.34751802  7.18751828]\n",
      " [ 5.27739248  5.6903848   4.50157896]\n",
      " [ 6.62899387 10.47390949  9.5238411 ]\n",
      " [ 9.55741178 10.47531979  9.72628157]\n",
      " [ 0.21627247  0.83026163  0.16634069]\n",
      " [ 0.4497541   1.71484783  0.46033951]\n",
      " [-1.0315915   1.80911914  1.86438628]\n",
      " [ 8.42660003 10.17972611  9.82485472]\n",
      " [ 3.67120628  6.74706538  3.88035841]\n",
      " [ 0.15289036  0.12165215  0.03267771]\n",
      " [ 3.85699146  4.49750685  1.72196011]\n",
      " [ 6.36852275  1.50558665  6.04796027]\n",
      " [ 3.68195429  2.24090273  6.15544578]\n",
      " [-1.01057103  4.85260244  0.32598281]\n",
      " [ 3.20179408  6.6202508   7.99405785]\n",
      " [10.85021439  8.0307168  10.82950944]]\n"
     ]
    }
   ],
   "source": [
    "print(X)"
   ]
  },
  {
   "cell_type": "code",
   "execution_count": 70,
   "metadata": {},
   "outputs": [],
   "source": [
    "ms = MeanShift()"
   ]
  },
  {
   "cell_type": "code",
   "execution_count": 75,
   "metadata": {},
   "outputs": [],
   "source": [
    "\n",
    "ms.fit(X)\n",
    "labels = ms.labels_\n",
    "#print(labels)\n",
    "cluster_centers = ms.cluster_centers_\n",
    "\n",
    "#print(cluster_centers)\n",
    "n_clusters_ = len(np.unique(labels))\n",
    "#print(\"Number of estimated clusters:\", n_clusters_)\n"
   ]
  },
  {
   "cell_type": "code",
   "execution_count": 72,
   "metadata": {},
   "outputs": [
    {
     "data": {
      "image/png": "[encoded data removed]",
      "text/plain": [
       "<matplotlib.figure.Figure at 0x1f566552b00>"
      ]
     },
     "metadata": {},
     "output_type": "display_data"
    }
   ],
   "source": [
    "\n",
    "colors = 10*['r','g','b','c','k','y','m']\n",
    "fig = plt.figure()\n",
    "ax = fig.add_subplot(111, projection='3d')\n",
    "\n",
    "for i in range(len(X)):\n",
    "    ax.scatter(X[i][0], X[i][1], X[i][2], c=colors[labels[i]], marker='o')\n",
    "\n",
    "ax.scatter(cluster_centers[:,0],cluster_centers[:,1],cluster_centers[:,2],\n",
    "            marker=\"x\",color='k', s=150, linewidths = 5, zorder=10)\n",
    "\n",
    "plt.show()\n",
    "#ax.show()"
   ]
  },
  {
   "cell_type": "markdown",
   "metadata": {},
   "source": [
    "WITH TITANIC DATASET"
   ]
  },
  {
   "cell_type": "code",
   "execution_count": 13,
   "metadata": {},
   "outputs": [
    {
     "name": "stderr",
     "output_type": "stream",
     "text": [
      "C:\\Users\\lenovo\\Anaconda3\\lib\\site-packages\\sklearn\\cross_validation.py:41: DeprecationWarning: This module was deprecated in version 0.18 in favor of the model_selection module into which all the refactored classes and functions are moved. Also note that the interface of the new CV iterators are different from that of this module. This module will be removed in 0.20.\n",
      "  \"This module will be removed in 0.20.\", DeprecationWarning)\n"
     ]
    },
    {
     "data": {
      "text/plain": [
       "MeanShift(bandwidth=None, bin_seeding=False, cluster_all=True, min_bin_freq=1,\n",
       "     n_jobs=1, seeds=None)"
      ]
     },
     "execution_count": 13,
     "metadata": {},
     "output_type": "execute_result"
    }
   ],
   "source": [
    "import numpy as np\n",
    "from sklearn.cluster import MeanShift, KMeans\n",
    "from sklearn import preprocessing, cross_validation\n",
    "import pandas as pd\n",
    "import matplotlib.pyplot as plt\n",
    "\n",
    "\n",
    "'''\n",
    "Pclass Passenger Class (1 = 1st; 2 = 2nd; 3 = 3rd)\n",
    "survival Survival (0 = No; 1 = Yes)\n",
    "name Name\n",
    "sex Sex\n",
    "age Age\n",
    "sibsp Number of Siblings/Spouses Aboard\n",
    "parch Number of Parents/Children Aboard\n",
    "ticket Ticket Number\n",
    "fare Passenger Fare (British pound)\n",
    "cabin Cabin\n",
    "embarked Port of Embarkation (C = Cherbourg; Q = Queenstown; S = Southampton)\n",
    "boat Lifeboat\n",
    "body Body Identification Number\n",
    "home.dest Home/Destination\n",
    "'''\n",
    "\n",
    "\n",
    "# https://pythonprogramming.net/static/downloads/machine-learning-data/titanic.xls\n",
    "df = pd.read_excel('titanic.xls')\n",
    "\n",
    "original_df = pd.DataFrame.copy(df)\n",
    "df.drop(['body','name'], 1, inplace=True)\n",
    "df.fillna(0,inplace=True)\n",
    "\n",
    "def handle_non_numerical_data(df):\n",
    "    \n",
    "    # handling non-numerical data: must convert.\n",
    "    columns = df.columns.values\n",
    "\n",
    "    for column in columns:\n",
    "        text_digit_vals = {}\n",
    "        def convert_to_int(val):\n",
    "            return text_digit_vals[val]\n",
    "\n",
    "        #print(column,df[column].dtype)\n",
    "        if df[column].dtype != np.int64 and df[column].dtype != np.float64:\n",
    "            \n",
    "            column_contents = df[column].values.tolist()\n",
    "            #finding just the uniques\n",
    "            unique_elements = set(column_contents)\n",
    "            # great, found them. \n",
    "            x = 0\n",
    "            for unique in unique_elements:\n",
    "                if unique not in text_digit_vals:\n",
    "                    # creating dict that contains new\n",
    "                    # id per unique string\n",
    "                    text_digit_vals[unique] = x\n",
    "                    x+=1\n",
    "            # now we map the new \"id\" vlaue\n",
    "            # to replace the string. \n",
    "            df[column] = list(map(convert_to_int,df[column]))\n",
    "\n",
    "    return df\n",
    "\n",
    "df = handle_non_numerical_data(df)\n",
    "df.drop(['ticket','home.dest'], 1, inplace=True)\n",
    "\n",
    "X = np.array(df.drop(['survived'], 1).astype(float))\n",
    "X = preprocessing.scale(X)\n",
    "y = np.array(df['survived'])\n",
    "\n",
    "clf = MeanShift()\n",
    "clf.fit(X)"
   ]
  },
  {
   "cell_type": "code",
   "execution_count": 76,
   "metadata": {},
   "outputs": [
    {
     "name": "stdout",
     "output_type": "stream",
     "text": [
      "[1 1 1 ... 0 0 0]\n",
      "[[ 0.36353991  0.17964907 -0.12641043 -0.22499199 -0.25278844 -0.35422516\n",
      "  -0.39568385 -0.13781766 -0.30162637]\n",
      " [-1.54609786 -0.82287239 -0.02146906  2.40203684  1.86652569  4.44117492\n",
      "   2.43153848 -0.64290847 -0.176307  ]\n",
      " [-1.54609786  0.04733278  1.08748559 -0.47908676  0.32550889  9.26124543\n",
      "   3.19311308  1.74338791  2.6474117 ]\n",
      " [-1.54609786  0.04733278  2.14904901  0.48128777  3.79279668  4.43714738\n",
      "   2.32169599  0.15252365 -0.42932839]\n",
      " [ 0.84191642 -0.30074929 -1.35790158  0.48128777  9.95686385  0.70136971\n",
      "  -0.44633476 -0.64290847 -0.6317455 ]\n",
      " [-1.54609786 -1.34499549  0.63252984 -0.47908676 -0.4449995   9.26124543\n",
      "  -0.44633476  1.74338791  2.6474117 ]]\n",
      "Number of estimated clusters: 6\n"
     ]
    }
   ],
   "source": [
    "labels = clf.labels_\n",
    "cluster_centers = clf.cluster_centers_\n",
    "print(labels)\n",
    "print(cluster_centers)\n",
    "n_clusters_ = len(np.unique(labels))\n",
    "print(\"Number of estimated clusters:\", n_clusters_)"
   ]
  },
  {
   "cell_type": "code",
   "execution_count": 15,
   "metadata": {},
   "outputs": [],
   "source": [
    "original_df['cluster_group']=np.nan\n"
   ]
  },
  {
   "cell_type": "code",
   "execution_count": 16,
   "metadata": {},
   "outputs": [
    {
     "name": "stderr",
     "output_type": "stream",
     "text": [
      "C:\\Users\\lenovo\\Anaconda3\\lib\\site-packages\\pandas\\core\\indexing.py:194: SettingWithCopyWarning: \n",
      "A value is trying to be set on a copy of a slice from a DataFrame\n",
      "\n",
      "See the caveats in the documentation: http://pandas.pydata.org/pandas-docs/stable/indexing.html#indexing-view-versus-copy\n",
      "  self._setitem_with_indexer(indexer, value)\n"
     ]
    }
   ],
   "source": [
    "for i in range(len(X)):\n",
    "    original_df['cluster_group'].iloc[i] = labels[i]"
   ]
  },
  {
   "cell_type": "code",
   "execution_count": 18,
   "metadata": {},
   "outputs": [
    {
     "name": "stdout",
     "output_type": "stream",
     "text": [
      "{0: 0.37307380373073806, 1: 0.5652173913043478, 2: 1.0, 3: 0.46153846153846156, 4: 0.1, 5: 1.0}\n"
     ]
    }
   ],
   "source": [
    "n_clusters_ = len(np.unique(labels))\n",
    "survival_rates = {}\n",
    "for i in range(n_clusters_):\n",
    "    temp_df = original_df[ (original_df['cluster_group']==float(i)) ]\n",
    "    #print(temp_df.head())\n",
    "\n",
    "    survival_cluster = temp_df[  (temp_df['survived'] == 1) ]\n",
    "\n",
    "    survival_rate = len(survival_cluster) / len(temp_df)\n",
    "    #print(i,survival_rate)\n",
    "    survival_rates[i] = survival_rate\n",
    "    \n",
    "print(survival_rates)"
   ]
  },
  {
   "cell_type": "code",
   "execution_count": 20,
   "metadata": {},
   "outputs": [
    {
     "name": "stdout",
     "output_type": "stream",
     "text": [
      "      pclass  survived                                              name  \\\n",
      "5          1         1                               Anderson, Mr. Harry   \n",
      "6          1         1                 Andrews, Miss. Kornelia Theodosia   \n",
      "7          1         0                            Andrews, Mr. Thomas Jr   \n",
      "8          1         1     Appleton, Mrs. Edward Dale (Charlotte Lamson)   \n",
      "9          1         0                           Artagaveytia, Mr. Ramon   \n",
      "12         1         1                     Aubart, Mme. Leontine Pauline   \n",
      "13         1         1                      Barber, Miss. Ellen \"Nellie\"   \n",
      "14         1         1              Barkworth, Mr. Algernon Henry Wilson   \n",
      "15         1         0                               Baumann, Mr. John D   \n",
      "18         1         1                             Bazzani, Miss. Albina   \n",
      "19         1         0                              Beattie, Mr. Thomson   \n",
      "20         1         1                     Beckwith, Mr. Richard Leonard   \n",
      "21         1         1  Beckwith, Mrs. Richard Leonard (Sallie Monypeny)   \n",
      "22         1         1                             Behr, Mr. Karl Howell   \n",
      "25         1         0                               Birnbaum, Mr. Jakob   \n",
      "26         1         1                           Bishop, Mr. Dickinson H   \n",
      "27         1         1           Bishop, Mrs. Dickinson H (Helen Walton)   \n",
      "28         1         1                            Bissette, Miss. Amelia   \n",
      "29         1         1         Bjornstrom-Steffansson, Mr. Mauritz Hakan   \n",
      "30         1         0                      Blackwell, Mr. Stephen Weart   \n",
      "31         1         1                                  Blank, Mr. Henry   \n",
      "32         1         1                           Bonnell, Miss. Caroline   \n",
      "33         1         1                          Bonnell, Miss. Elizabeth   \n",
      "34         1         0                          Borebank, Mr. John James   \n",
      "36         1         1                       Bowerman, Miss. Elsie Edith   \n",
      "37         1         1     Bradley, Mr. George (\"George Arthur Brayton\")   \n",
      "38         1         0                           Brady, Mr. John Bertram   \n",
      "39         1         0                                Brandeis, Mr. Emil   \n",
      "40         1         0                         Brewe, Dr. Arthur Jackson   \n",
      "41         1         1         Brown, Mrs. James Joseph (Margaret Tobin)   \n",
      "...      ...       ...                                               ...   \n",
      "1279       3         0              Vestrom, Miss. Hulda Amanda Adolfina   \n",
      "1280       3         0                                   Vovk, Mr. Janko   \n",
      "1281       3         0                              Waelens, Mr. Achille   \n",
      "1282       3         0                               Ware, Mr. Frederick   \n",
      "1283       3         0                       Warren, Mr. Charles William   \n",
      "1284       3         0                                 Webber, Mr. James   \n",
      "1285       3         0                               Wenzel, Mr. Linhart   \n",
      "1286       3         1   Whabee, Mrs. George Joseph (Shawneene Abi-Saab)   \n",
      "1287       3         0                  Widegren, Mr. Carl/Charles Peter   \n",
      "1288       3         0                         Wiklund, Mr. Jakob Alfred   \n",
      "1289       3         0                           Wiklund, Mr. Karl Johan   \n",
      "1290       3         1                  Wilkes, Mrs. James (Ellen Needs)   \n",
      "1291       3         0                  Willer, Mr. Aaron (\"Abi Weller\")   \n",
      "1292       3         0                                Willey, Mr. Edward   \n",
      "1293       3         0                 Williams, Mr. Howard Hugh \"Harry\"   \n",
      "1294       3         0                              Williams, Mr. Leslie   \n",
      "1295       3         0                               Windelov, Mr. Einar   \n",
      "1296       3         0                                  Wirz, Mr. Albert   \n",
      "1297       3         0                            Wiseman, Mr. Phillippe   \n",
      "1298       3         0                         Wittevrongel, Mr. Camille   \n",
      "1299       3         0                               Yasbeck, Mr. Antoni   \n",
      "1300       3         1           Yasbeck, Mrs. Antoni (Selini Alexander)   \n",
      "1301       3         0                              Youseff, Mr. Gerious   \n",
      "1302       3         0                                 Yousif, Mr. Wazli   \n",
      "1303       3         0                             Yousseff, Mr. Gerious   \n",
      "1304       3         0                              Zabour, Miss. Hileni   \n",
      "1305       3         0                             Zabour, Miss. Thamine   \n",
      "1306       3         0                         Zakarian, Mr. Mapriededer   \n",
      "1307       3         0                               Zakarian, Mr. Ortin   \n",
      "1308       3         0                                Zimmerman, Mr. Leo   \n",
      "\n",
      "         sex   age  sibsp  parch            ticket      fare cabin embarked  \\\n",
      "5       male  48.0      0      0             19952   26.5500   E12        S   \n",
      "6     female  63.0      1      0             13502   77.9583    D7        S   \n",
      "7       male  39.0      0      0            112050    0.0000   A36        S   \n",
      "8     female  53.0      2      0             11769   51.4792  C101        S   \n",
      "9       male  71.0      0      0          PC 17609   49.5042   NaN        C   \n",
      "12    female  24.0      0      0          PC 17477   69.3000   B35        C   \n",
      "13    female  26.0      0      0             19877   78.8500   NaN        S   \n",
      "14      male  80.0      0      0             27042   30.0000   A23        S   \n",
      "15      male   NaN      0      0          PC 17318   25.9250   NaN        S   \n",
      "18    female  32.0      0      0             11813   76.2917   D15        C   \n",
      "19      male  36.0      0      0             13050   75.2417    C6        C   \n",
      "20      male  37.0      1      1             11751   52.5542   D35        S   \n",
      "21    female  47.0      1      1             11751   52.5542   D35        S   \n",
      "22      male  26.0      0      0            111369   30.0000  C148        C   \n",
      "25      male  25.0      0      0             13905   26.0000   NaN        C   \n",
      "26      male  25.0      1      0             11967   91.0792   B49        C   \n",
      "27    female  19.0      1      0             11967   91.0792   B49        C   \n",
      "28    female  35.0      0      0          PC 17760  135.6333   C99        S   \n",
      "29      male  28.0      0      0            110564   26.5500   C52        S   \n",
      "30      male  45.0      0      0            113784   35.5000     T        S   \n",
      "31      male  40.0      0      0            112277   31.0000   A31        C   \n",
      "32    female  30.0      0      0             36928  164.8667    C7        S   \n",
      "33    female  58.0      0      0            113783   26.5500  C103        S   \n",
      "34      male  42.0      0      0            110489   26.5500   D22        S   \n",
      "36    female  22.0      0      1            113505   55.0000   E33        S   \n",
      "37      male   NaN      0      0            111427   26.5500   NaN        S   \n",
      "38      male  41.0      0      0            113054   30.5000   A21        S   \n",
      "39      male  48.0      0      0          PC 17591   50.4958   B10        C   \n",
      "40      male   NaN      0      0            112379   39.6000   NaN        C   \n",
      "41    female  44.0      0      0          PC 17610   27.7208    B4        C   \n",
      "...      ...   ...    ...    ...               ...       ...   ...      ...   \n",
      "1279  female  14.0      0      0            350406    7.8542   NaN        S   \n",
      "1280    male  22.0      0      0            349252    7.8958   NaN        S   \n",
      "1281    male  22.0      0      0            345767    9.0000   NaN        S   \n",
      "1282    male   NaN      0      0            359309    8.0500   NaN        S   \n",
      "1283    male   NaN      0      0        C.A. 49867    7.5500   NaN        S   \n",
      "1284    male   NaN      0      0  SOTON/OQ 3101316    8.0500   NaN        S   \n",
      "1285    male  32.5      0      0            345775    9.5000   NaN        S   \n",
      "1286  female  38.0      0      0              2688    7.2292   NaN        C   \n",
      "1287    male  51.0      0      0            347064    7.7500   NaN        S   \n",
      "1288    male  18.0      1      0           3101267    6.4958   NaN        S   \n",
      "1289    male  21.0      1      0           3101266    6.4958   NaN        S   \n",
      "1290  female  47.0      1      0            363272    7.0000   NaN        S   \n",
      "1291    male   NaN      0      0              3410    8.7125   NaN        S   \n",
      "1292    male   NaN      0      0     S.O./P.P. 751    7.5500   NaN        S   \n",
      "1293    male   NaN      0      0          A/5 2466    8.0500   NaN        S   \n",
      "1294    male  28.5      0      0             54636   16.1000   NaN        S   \n",
      "1295    male  21.0      0      0  SOTON/OQ 3101317    7.2500   NaN        S   \n",
      "1296    male  27.0      0      0            315154    8.6625   NaN        S   \n",
      "1297    male   NaN      0      0        A/4. 34244    7.2500   NaN        S   \n",
      "1298    male  36.0      0      0            345771    9.5000   NaN        S   \n",
      "1299    male  27.0      1      0              2659   14.4542   NaN        C   \n",
      "1300  female  15.0      1      0              2659   14.4542   NaN        C   \n",
      "1301    male  45.5      0      0              2628    7.2250   NaN        C   \n",
      "1302    male   NaN      0      0              2647    7.2250   NaN        C   \n",
      "1303    male   NaN      0      0              2627   14.4583   NaN        C   \n",
      "1304  female  14.5      1      0              2665   14.4542   NaN        C   \n",
      "1305  female   NaN      1      0              2665   14.4542   NaN        C   \n",
      "1306    male  26.5      0      0              2656    7.2250   NaN        C   \n",
      "1307    male  27.0      0      0              2670    7.2250   NaN        C   \n",
      "1308    male  29.0      0      0            315082    7.8750   NaN        S   \n",
      "\n",
      "     boat   body                           home.dest  cluster_group  \n",
      "5       3    NaN                        New York, NY            0.0  \n",
      "6      10    NaN                          Hudson, NY            0.0  \n",
      "7     NaN    NaN                         Belfast, NI            0.0  \n",
      "8       D    NaN                 Bayside, Queens, NY            0.0  \n",
      "9     NaN   22.0                 Montevideo, Uruguay            0.0  \n",
      "12      9    NaN                       Paris, France            0.0  \n",
      "13      6    NaN                                 NaN            0.0  \n",
      "14      B    NaN                       Hessle, Yorks            0.0  \n",
      "15    NaN    NaN                        New York, NY            0.0  \n",
      "18      8    NaN                                 NaN            0.0  \n",
      "19      A    NaN                        Winnipeg, MN            0.0  \n",
      "20      5    NaN                        New York, NY            0.0  \n",
      "21      5    NaN                        New York, NY            0.0  \n",
      "22      5    NaN                        New York, NY            0.0  \n",
      "25    NaN  148.0                   San Francisco, CA            0.0  \n",
      "26      7    NaN                        Dowagiac, MI            0.0  \n",
      "27      7    NaN                        Dowagiac, MI            0.0  \n",
      "28      8    NaN                                 NaN            0.0  \n",
      "29      D    NaN  Stockholm, Sweden / Washington, DC            0.0  \n",
      "30    NaN    NaN                         Trenton, NJ            0.0  \n",
      "31      7    NaN                      Glen Ridge, NJ            0.0  \n",
      "32      8    NaN                      Youngstown, OH            0.0  \n",
      "33      8    NaN   Birkdale, England Cleveland, Ohio            0.0  \n",
      "34    NaN    NaN               London / Winnipeg, MB            0.0  \n",
      "36      6    NaN    St Leonards-on-Sea, England Ohio            0.0  \n",
      "37      9    NaN                     Los Angeles, CA            0.0  \n",
      "38    NaN    NaN                         Pomeroy, WA            0.0  \n",
      "39    NaN  208.0                           Omaha, NE            0.0  \n",
      "40    NaN    NaN                    Philadelphia, PA            0.0  \n",
      "41      6    NaN                          Denver, CO            0.0  \n",
      "...   ...    ...                                 ...            ...  \n",
      "1279  NaN    NaN                                 NaN            0.0  \n",
      "1280  NaN    NaN                                 NaN            0.0  \n",
      "1281  NaN    NaN      Antwerp, Belgium / Stanton, OH            0.0  \n",
      "1282  NaN    NaN                                 NaN            0.0  \n",
      "1283  NaN    NaN                                 NaN            0.0  \n",
      "1284  NaN    NaN                                 NaN            0.0  \n",
      "1285  NaN  298.0                                 NaN            0.0  \n",
      "1286    C    NaN                                 NaN            0.0  \n",
      "1287  NaN    NaN                                 NaN            0.0  \n",
      "1288  NaN  314.0                                 NaN            0.0  \n",
      "1289  NaN    NaN                                 NaN            0.0  \n",
      "1290  NaN    NaN                                 NaN            0.0  \n",
      "1291  NaN    NaN                                 NaN            0.0  \n",
      "1292  NaN    NaN                                 NaN            0.0  \n",
      "1293  NaN    NaN                                 NaN            0.0  \n",
      "1294  NaN   14.0                                 NaN            0.0  \n",
      "1295  NaN    NaN                                 NaN            0.0  \n",
      "1296  NaN  131.0                                 NaN            0.0  \n",
      "1297  NaN    NaN                                 NaN            0.0  \n",
      "1298  NaN    NaN                                 NaN            0.0  \n",
      "1299    C    NaN                                 NaN            0.0  \n",
      "1300  NaN    NaN                                 NaN            0.0  \n",
      "1301  NaN  312.0                                 NaN            0.0  \n",
      "1302  NaN    NaN                                 NaN            0.0  \n",
      "1303  NaN    NaN                                 NaN            0.0  \n",
      "1304  NaN  328.0                                 NaN            0.0  \n",
      "1305  NaN    NaN                                 NaN            0.0  \n",
      "1306  NaN  304.0                                 NaN            0.0  \n",
      "1307  NaN    NaN                                 NaN            0.0  \n",
      "1308  NaN    NaN                                 NaN            0.0  \n",
      "\n",
      "[1233 rows x 15 columns]\n"
     ]
    }
   ],
   "source": [
    "print(original_df[ (original_df['cluster_group']==0) ])\n"
   ]
  },
  {
   "cell_type": "code",
   "execution_count": null,
   "metadata": {},
   "outputs": [],
   "source": []
  }
 ],
 "metadata": {
  "kernelspec": {
   "display_name": "Python 3",
   "language": "python",
   "name": "python3"
  },
  "language_info": {
   "codemirror_mode": {
    "name": "ipython",
    "version": 3
   },
   "file_extension": ".py",
   "mimetype": "text/x-python",
   "name": "python",
   "nbconvert_exporter": "python",
   "pygments_lexer": "ipython3",
   "version": "3.6.4"
  }
 },
 "nbformat": 4,
 "nbformat_minor": 2
}

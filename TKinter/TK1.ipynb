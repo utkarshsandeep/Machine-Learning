{
 "cells": [
  {
   "cell_type": "code",
   "execution_count": 2,
   "metadata": {},
   "outputs": [],
   "source": [
    "import tkinter as tk\n",
    "LARGE_FONT=(\"Verdana\",12)\n",
    "from tkinter import *"
   ]
  },
  {
   "cell_type": "code",
   "execution_count": 3,
   "metadata": {},
   "outputs": [],
   "source": [
    "class SeaofBTCapp(tk.Tk):\n",
    "    def __init__(self,*args,**kwargs):\n",
    "        tk.Tk.__init__(self,*args,**kwargs)\n",
    "        container=tk.Frame(self)\n",
    "        container.pack(side=\"top\",fill=\"both\",expand=True)\n",
    "        container.grid_rowconfigure(0,weight=1)\n",
    "        container.grid_columnconfigure(0,weight=1)\n",
    "        self.frames={}\n",
    "        for F in (StartPage,PageOne,PageTwo):\n",
    "            frame=F(container,self)\n",
    "            self.frames[F]=frame\n",
    "            frame.grid(row=0,column=0,sticky=\"nsew\")\n",
    "        self.show_frame(StartPage)\n",
    "    def show_frame(self,cont):\n",
    "        frame=self.frames[cont]\n",
    "        frame.tkraise()"
   ]
  },
  {
   "cell_type": "code",
   "execution_count": 4,
   "metadata": {},
   "outputs": [],
   "source": [
    "class PageOne(tk.Frame):\n",
    "    def __init__(self,parent,controller):\n",
    "        tk.Frame.__init__(self,parent)\n",
    "        label=tk.Label(self,text=\"Page One\",font=LARGE_FONT)\n",
    "        label.pack(pady=10,padx=10)\n",
    "        button2=tk.Button(self,text=\"Back to homepage\",command=lambda: controller.show_frame(StartPage))\n",
    "        button2.pack()\n",
    "        button3=tk.Button(self,text=\"Page 2\",command=lambda: controller.show_frame(PageTwo))\n",
    "        button3.pack()"
   ]
  },
  {
   "cell_type": "code",
   "execution_count": 32,
   "metadata": {},
   "outputs": [],
   "source": [
    "class StartPage(tk.Frame):\n",
    "    def __init__(self,parent,controller):\n",
    "        tk.Frame.__init__(self,parent)\n",
    "        label=tk.Label(self,text=\"Start Page\",font=LARGE_FONT)\n",
    "        label.pack(pady=10,padx=10)\n",
    "        Entry1=Entry(self,text=\"Name\")\n",
    "        Entry1.pack()\n",
    "        button1=tk.Button(self,text=\"Visit Page 1\",command=lambda: controller.show_frame(PageOne))\n",
    "        button1.pack()\n",
    "        button4=tk.Button(self,text=\"Visit Page 2\",command=lambda: controller.show_frame(PageTwo))\n",
    "        button4.pack()"
   ]
  },
  {
   "cell_type": "code",
   "execution_count": 33,
   "metadata": {},
   "outputs": [],
   "source": [
    "class PageTwo(tk.Frame):\n",
    "    def __init__(self,parent,controller):\n",
    "        tk.Frame.__init__(self,parent)\n",
    "        label=tk.Label(self,text=\"Page Two\",font=LARGE_FONT)\n",
    "        label.pack(pady=10,padx=10)\n",
    "        button5=tk.Button(self,text=\"Back to homepage\",command=lambda: controller.show_frame(StartPage))\n",
    "        button5.pack()\n",
    "        button6=tk.Button(self,text=\"Page 1\",command=lambda: controller.show_frame(PageOne))\n",
    "        button6.pack()"
   ]
  },
  {
   "cell_type": "code",
   "execution_count": 35,
   "metadata": {},
   "outputs": [],
   "source": [
    "app=SeaofBTCapp()\n",
    "app.mainloop()"
   ]
  },
  {
   "cell_type": "code",
   "execution_count": null,
   "metadata": {},
   "outputs": [],
   "source": []
  }
 ],
 "metadata": {
  "kernelspec": {
   "display_name": "Python 3",
   "language": "python",
   "name": "python3"
  },
  "language_info": {
   "codemirror_mode": {
    "name": "ipython",
    "version": 3
   },
   "file_extension": ".py",
   "mimetype": "text/x-python",
   "name": "python",
   "nbconvert_exporter": "python",
   "pygments_lexer": "ipython3",
   "version": "3.6.4"
  }
 },
 "nbformat": 4,
 "nbformat_minor": 2
}

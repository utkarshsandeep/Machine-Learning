{
 "cells": [
  {
   "cell_type": "code",
   "execution_count": 10,
   "metadata": {},
   "outputs": [],
   "source": [
    "import tkinter as tk\n",
    "LARGE_FONT=(\"Verdana\",12)\n",
    "from tkinter import *"
   ]
  },
  {
   "cell_type": "code",
   "execution_count": 11,
   "metadata": {},
   "outputs": [],
   "source": [
    "class Registeration(tk.Tk):\n",
    "    def __init__(self,*args,**kwargs):\n",
    "        tk.Tk.__init__(self,*args,**kwargs)\n",
    "        container=tk.Frame(self)\n",
    "        container.pack(side=\"top\",fill=\"both\",expand=True)\n",
    "        container.grid_rowconfigure(0,weight=1)\n",
    "        container.grid_columnconfigure(0,weight=1)\n",
    "        self.frames={}\n",
    "        for F in (Register,Login,Dashboard,Error):\n",
    "            frame=F(container,self)\n",
    "            self.frames[F]=frame\n",
    "            frame.grid(row=0,column=0,sticky=\"nsew\")\n",
    "        self.show_frame(Login)\n",
    "    def show_frame(self,cont):\n",
    "        frame=self.frames[cont]\n",
    "        frame.tkraise()"
   ]
  },
  {
   "cell_type": "code",
   "execution_count": 12,
   "metadata": {},
   "outputs": [],
   "source": [
    "master=Tk()\n",
    "\n",
    "def all_delete():\n",
    "    name.delete(first=0,last=22)\n",
    "    username.delete(first=0,last=22)\n",
    "    emaild.delete(first=0,last=22)\n",
    "    password.delete(first=0,last=22)"
   ]
  },
  {
   "cell_type": "code",
   "execution_count": 13,
   "metadata": {},
   "outputs": [],
   "source": [
    "name1=[]\n",
    "user1=[]\n",
    "email1=[]\n",
    "pass1=[]\n",
    "class Register(tk.Frame):\n",
    "    def __init__(self,parent,controller):\n",
    "        tk.Frame.__init__(self,parent)\n",
    "        label=tk.Label(self,text=\"Registeration Page\",font=LARGE_FONT)\n",
    "        label.pack(pady=10,padx=10)\n",
    "        Label(master, text='Name').grid(row=0)\n",
    "        name=Entry(self)\n",
    "        name.pack()\n",
    "        name1.append(name.get())\n",
    "        Label(master, text='Username').grid(row=1)\n",
    "        username=Entry(self)\n",
    "        username.pack()\n",
    "        user1.append(username.get())\n",
    "        Label(master, text='Email Id').grid(row=2)\n",
    "        emailid=Entry(self)\n",
    "        emailid.pack()\n",
    "        email1.append(emailid.get())\n",
    "        Label(master, text='Password').grid(row=3)\n",
    "        password=Entry(self)\n",
    "        password.pack()\n",
    "        pass1.append(password.get())\n",
    "        button1=tk.Button(self,text=\"Register\",command=lambda: controller.show_frame(Login))\n",
    "        button1.pack()\n",
    "        button2=tk.Button(self,text=\"Clear All\",command=all_delete)\n",
    "        button2.pack()"
   ]
  },
  {
   "cell_type": "code",
   "execution_count": 22,
   "metadata": {},
   "outputs": [
    {
     "name": "stdout",
     "output_type": "stream",
     "text": [
      "['']\n",
      "['']\n",
      "['']\n",
      "['']\n"
     ]
    }
   ],
   "source": [
    "print(name1)\n",
    "print(user1)\n",
    "print(email1)\n",
    "print(pass1)"
   ]
  },
  {
   "cell_type": "code",
   "execution_count": 16,
   "metadata": {},
   "outputs": [],
   "source": [
    "def new_delete():\n",
    "    username.delete(first=0,last=22)\n",
    "    password.delete(first=0,last=22)"
   ]
  },
  {
   "cell_type": "code",
   "execution_count": 17,
   "metadata": {},
   "outputs": [],
   "source": [
    "\n",
    "class Login(tk.Frame):\n",
    "    def __init__(self,parent,controller):\n",
    "        x=0\n",
    "        tk.Frame.__init__(self,parent)\n",
    "        label=tk.Label(self,text=\"Login Page\",font=LARGE_FONT)\n",
    "        label.pack(pady=10,padx=10)\n",
    "        Label(master, text='Username').grid(row=0)\n",
    "        username=Entry(self)\n",
    "        username.pack()\n",
    "        user2=username.get()\n",
    "        Label(master, text='Password').grid(row=1)\n",
    "        password=Entry(self)\n",
    "        password.pack()\n",
    "        pass2=password.get()\n",
    "        for i in user1:\n",
    "            if i==user2:\n",
    "                x=x+1\n",
    "        if x>0:\n",
    "            button1=tk.Button(self,text=\"Login\",command=lambda: controller.show_frame(Dashboard))\n",
    "        else:\n",
    "            button1=tk.Button(self,text=\"Login\",command=lambda: controller.show_frame(Error))\n",
    "        button1.pack()\n",
    "        button2=tk.Button(self,text=\"Clear All\",command=new_delete)\n",
    "        button2.pack()\n",
    "        button1=tk.Button(self,text=\"Register\",command=lambda: controller.show_frame(Register))\n",
    "        button1.pack()"
   ]
  },
  {
   "cell_type": "code",
   "execution_count": 18,
   "metadata": {},
   "outputs": [],
   "source": [
    "class Dashboard(tk.Frame):\n",
    "    def __init__(self,parent,controller):\n",
    "        tk.Frame.__init__(self,parent)\n",
    "        label=tk.Label(self,text=\"Dashboard \\n Welcome to Booking.com!\",font=LARGE_FONT)\n",
    "        label.pack(pady=10,padx=10)\n",
    "        button1=tk.Button(self,text=\"Logout\",command=lambda: controller.show_frame(Login))\n",
    "        button1.pack()"
   ]
  },
  {
   "cell_type": "code",
   "execution_count": 19,
   "metadata": {},
   "outputs": [],
   "source": [
    "class Error(tk.Frame):\n",
    "    def __init__(self,parent,controller):\n",
    "        tk.Frame.__init__(self,parent)\n",
    "        label=tk.Label(self, text='Invalid Credentials')\n",
    "        label.pack(pady=10,padx=10)\n",
    "        button1=tk.Button(self,text=\"Login\",command=lambda: controller.show_frame(Login))\n",
    "        button1.pack()\n",
    "        button2=tk.Button(self,text=\"Register\",command=lambda: controller.show_frame(Register))\n",
    "        button2.pack()"
   ]
  },
  {
   "cell_type": "code",
   "execution_count": 20,
   "metadata": {},
   "outputs": [],
   "source": [
    "app=Registeration()\n",
    "app.mainloop()"
   ]
  },
  {
   "cell_type": "code",
   "execution_count": null,
   "metadata": {},
   "outputs": [],
   "source": []
  }
 ],
 "metadata": {
  "kernelspec": {
   "display_name": "Python 3",
   "language": "python",
   "name": "python3"
  },
  "language_info": {
   "codemirror_mode": {
    "name": "ipython",
    "version": 3
   },
   "file_extension": ".py",
   "mimetype": "text/x-python",
   "name": "python",
   "nbconvert_exporter": "python",
   "pygments_lexer": "ipython3",
   "version": "3.6.4"
  }
 },
 "nbformat": 4,
 "nbformat_minor": 2
}

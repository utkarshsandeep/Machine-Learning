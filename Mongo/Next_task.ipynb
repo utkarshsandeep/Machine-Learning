{
 "cells": [
  {
   "cell_type": "code",
   "execution_count": 1,
   "metadata": {},
   "outputs": [],
   "source": [
    "import numpy as np\n",
    "import matplotlib.pyplot as plt\n",
    "from matplotlib import style\n",
    "from collections import Counter\n",
    "style.use('fivethirtyeight')\n",
    "import pandas as pd"
   ]
  },
  {
   "cell_type": "code",
   "execution_count": 2,
   "metadata": {},
   "outputs": [],
   "source": [
    "def handle_non_numerical_data(df):\n",
    "    columns = df.columns.values  \n",
    "    #print(columns)\n",
    "    for column in columns:\n",
    "        text_digit_vals = {}\n",
    "        def convert_to_int(val):\n",
    "            return text_digit_vals[val]\n",
    "\n",
    "        if df[column].dtype != np.int64 and df[column].dtype != np.float64:\n",
    "            column_contents = df[column].values.tolist()\n",
    "            unique_elements = set(column_contents)  \n",
    "            x = 0\n",
    "            for unique in unique_elements:\n",
    "                if unique not in text_digit_vals:\n",
    "                    text_digit_vals[unique] = x\n",
    "                    #print(unique, x)\n",
    "                    x+=1\n",
    "\n",
    "            df[column] = list(map(convert_to_int, df[column]))\n",
    "\n",
    "    return df"
   ]
  },
  {
   "cell_type": "code",
   "execution_count": 4,
   "metadata": {},
   "outputs": [
    {
     "name": "stdout",
     "output_type": "stream",
     "text": [
      "      CustomerID  DaysBooking  HotelStar  NoOfPerson  Season  Breakfast  WiFi  \\\n",
      "0              1            2          3           1       0          1     0   \n",
      "1              2            3          5           4       3          0     1   \n",
      "2              3            4          2           2       1          1     0   \n",
      "3              4            2          3           2       3          0     1   \n",
      "4              5            2          5           2       1          0     0   \n",
      "5              6            4          3           4       0          0     0   \n",
      "6              7            3          3           1       0          0     0   \n",
      "7              8            4          5           2       1          1     0   \n",
      "8              9            2          2           2       3          1     0   \n",
      "9             10            4          2           2       3          0     0   \n",
      "10            11            3          2           3       0          0     0   \n",
      "11            12            3          3           1       0          1     0   \n",
      "12            13            3          5           2       1          1     0   \n",
      "13            14            2          3           2       3          1     0   \n",
      "14            15            3          3           1       1          0     0   \n",
      "15            16            3          5           2       3          0     0   \n",
      "16            17            1          2           1       0          1     0   \n",
      "17            18            3          3           2       1          0     1   \n",
      "18            19            4          3           1       0          0     0   \n",
      "19            20            2          4           2       1          0     0   \n",
      "20            21            5          3           4       1          0     1   \n",
      "21            22            2          3           1       0          1     1   \n",
      "22            23            3          5           2       3          0     0   \n",
      "23            24            3          4           4       1          0     0   \n",
      "24            25            4          2           2       0          1     0   \n",
      "25            26            2          5           1       1          1     0   \n",
      "26            27            3          3           2       3          0     1   \n",
      "27            28            3          4           1       1          1     1   \n",
      "28            29            2          5           1       0          0     0   \n",
      "29            30            3          3           2       3          0     1   \n",
      "...          ...          ...        ...         ...     ...        ...   ...   \n",
      "1182        1183            3          4           4       3          1     1   \n",
      "1183        1184            3          2           4       1          0     1   \n",
      "1184        1185            3          3           4       3          1     0   \n",
      "1185        1186            2          4           3       0          0     0   \n",
      "1186        1187            5          3           4       1          0     0   \n",
      "1187        1188            3          4           4       3          1     0   \n",
      "1188        1189            2          5           3       1          0     0   \n",
      "1189        1190            1          3           2       0          1     0   \n",
      "1190        1191            3          5           2       1          1     0   \n",
      "1191        1192            4          4           3       0          0     0   \n",
      "1192        1193            5          4           4       0          1     1   \n",
      "1193        1194            3          3           2       0          0     1   \n",
      "1194        1195            4          5           1       1          1     0   \n",
      "1195        1196            5          4           2       3          0     0   \n",
      "1196        1197            4          3           3       1          1     0   \n",
      "1197        1198            3          4           2       1          0     0   \n",
      "1198        1199            2          3           1       0          0     0   \n",
      "1199        1200            3          3           4       3          0     0   \n",
      "1200        1201            4          3           2       1          0     0   \n",
      "1201        1202            5          3           4       3          0     0   \n",
      "1202        1203            3          2           1       0          1     0   \n",
      "1203        1204            5          4           2       3          0     0   \n",
      "1204        1205            4          5           2       1          0     1   \n",
      "1205        1206            1          3           2       1          0     0   \n",
      "1206        1207            2          4           1       0          1     0   \n",
      "1207        1208            4          3           2       3          0     0   \n",
      "1208        1209            3          3           1       1          1     0   \n",
      "1209        1210            3          4           2       0          1     0   \n",
      "1210        1211            2          4           4       3          0     0   \n",
      "1211        1212            4          5           2       0          0     0   \n",
      "\n",
      "      AC/NON AC  Price  Age  Booked  \n",
      "0             2   2000   20       0  \n",
      "1             2   3000   40       1  \n",
      "2             1   4000   30       0  \n",
      "3             2   3000   20       1  \n",
      "4             2   4000   20       0  \n",
      "5             2   4000   40       0  \n",
      "6             1   2000   20       0  \n",
      "7             2   3000   20       0  \n",
      "8             2   5000   30       1  \n",
      "9             1   5000   20       1  \n",
      "10            2   3000   30       0  \n",
      "11            2   4000   40       0  \n",
      "12            2   4000   20       0  \n",
      "13            2   3000   30       1  \n",
      "14            2   2000   50       0  \n",
      "15            2   4000   40       0  \n",
      "16            2   3000   20       1  \n",
      "17            2   3000   30       1  \n",
      "18            2   3000   20       0  \n",
      "19            2   4000   30       0  \n",
      "20            2   4000   40       1  \n",
      "21            1   2000   20       0  \n",
      "22            2   6000   30       1  \n",
      "23            2   4000   40       0  \n",
      "24            2   2000   20       0  \n",
      "25            2   4000   30       0  \n",
      "26            2   5000   50       1  \n",
      "27            2   2000   30       1  \n",
      "28            2   4000   50       0  \n",
      "29            1   5000   60       0  \n",
      "...         ...    ...  ...     ...  \n",
      "1182          2   5000   30       0  \n",
      "1183          1   4000   40       1  \n",
      "1184          2   6000   20       1  \n",
      "1185          1   3000   30       0  \n",
      "1186          2   4000   30       0  \n",
      "1187          2   5000   20       0  \n",
      "1188          2   6000   30       1  \n",
      "1189          2   2000   20       0  \n",
      "1190          2   4000   20       1  \n",
      "1191          2   4000   30       0  \n",
      "1192          2   3000   40       1  \n",
      "1193          2   3000   30       0  \n",
      "1194          2   5000   30       1  \n",
      "1195          1   4000   20       0  \n",
      "1196          2   3000   30       1  \n",
      "1197          2   4000   20       0  \n",
      "1198          2   3000   20       1  \n",
      "1199          2   4000   20       0  \n",
      "1200          2   4000   30       1  \n",
      "1201          2   3000   40       0  \n",
      "1202          1   1000   20       0  \n",
      "1203          2   3000   30       1  \n",
      "1204          2   4000   50       0  \n",
      "1205          0   2000   20       1  \n",
      "1206          3   2000   20       1  \n",
      "1207          0   4000   20       0  \n",
      "1208          2   2000   20       0  \n",
      "1209          2   3000   20       1  \n",
      "1210          2   4000   30       0  \n",
      "1211          2   4000   20       1  \n",
      "\n",
      "[1212 rows x 11 columns]\n"
     ]
    }
   ],
   "source": [
    "df = pd.read_csv('Hoteldata.csv')  \n",
    "df = handle_non_numerical_data(df)\n",
    "print(df) \n",
    "Booked = df['Booked']"
   ]
  },
  {
   "cell_type": "code",
   "execution_count": 6,
   "metadata": {},
   "outputs": [
    {
     "data": {
      "image/png": "[encoded data removed]",
      "text/plain": [
       "<matplotlib.figure.Figure at 0x2dc2aa99a58>"
      ]
     },
     "metadata": {},
     "output_type": "display_data"
    }
   ],
   "source": [
    "colors=['red','green']\n",
    "plt.ylabel('Age')\n",
    "plt.xlabel('Star')\n",
    "values1 = df['Age']\n",
    "values = df['HotelStar']\n",
    "\n",
    "for i in range(len(values)):\n",
    "    plt.scatter(values[i],values1[i],s=100, color=colors[Booked[i]])\n",
    "plt.show()"
   ]
  },
  {
   "cell_type": "code",
   "execution_count": 8,
   "metadata": {},
   "outputs": [
    {
     "name": "stdout",
     "output_type": "stream",
     "text": [
      "710\n",
      "710\n"
     ]
    },
    {
     "data": {
      "image/png": "[encoded data removed]",
      "text/plain": [
       "<matplotlib.figure.Figure at 0x2dc29d07eb8>"
      ]
     },
     "metadata": {},
     "output_type": "display_data"
    }
   ],
   "source": [
    "Data = df['Age']\n",
    "Out = df['Booked']\n",
    "Y = []\n",
    "N = []\n",
    "temp=[]\n",
    "temp1=[]\n",
    "for i in range(len(Out)):\n",
    "    if(Out[i]==0):\n",
    "        Y.append(Data[i])\n",
    "        temp.append(Out[i])\n",
    "    else:\n",
    "        N.append(Data[i])\n",
    "        temp1.append(Out[i])\n",
    "print(len(Y))\n",
    "print(len(temp))\n",
    "plt.ylabel('Age')\n",
    "plt.xlabel('Booked')\n",
    "plt.plot(temp,Y,color = 'green')\n",
    "plt.plot(temp1,N,color='red')\n",
    "plt.show()"
   ]
  },
  {
   "cell_type": "code",
   "execution_count": 11,
   "metadata": {},
   "outputs": [
    {
     "name": "stdout",
     "output_type": "stream",
     "text": [
      "710\n",
      "710\n"
     ]
    },
    {
     "data": {
      "image/png": "[encoded data removed]",
      "text/plain": [
       "<matplotlib.figure.Figure at 0x2dc2a79b7f0>"
      ]
     },
     "metadata": {},
     "output_type": "display_data"
    }
   ],
   "source": [
    "Data = df['Breakfast']\n",
    "Out = df['Booked']\n",
    "Y = []\n",
    "N = []\n",
    "temp2=[]\n",
    "temp3=[]\n",
    "for i in range(len(Out)):\n",
    "    if(Out[i]==0):\n",
    "        Y.append(Data[i])\n",
    "        temp2.append(Out[i])\n",
    "    else:\n",
    "        N.append(Data[i])\n",
    "        temp3.append(Out[i])\n",
    "print(len(Y))\n",
    "print(len(temp2))\n",
    "plt.ylabel('Breakfast')\n",
    "plt.xlabel('Booked')\n",
    "plt.plot(temp2,Y,color = 'green')\n",
    "plt.plot(temp3,N,color='red')\n",
    "plt.show()"
   ]
  },
  {
   "cell_type": "code",
   "execution_count": null,
   "metadata": {},
   "outputs": [],
   "source": []
  }
 ],
 "metadata": {
  "kernelspec": {
   "display_name": "Python 3",
   "language": "python",
   "name": "python3"
  },
  "language_info": {
   "codemirror_mode": {
    "name": "ipython",
    "version": 3
   },
   "file_extension": ".py",
   "mimetype": "text/x-python",
   "name": "python",
   "nbconvert_exporter": "python",
   "pygments_lexer": "ipython3",
   "version": "3.6.4"
  }
 },
 "nbformat": 4,
 "nbformat_minor": 2
}

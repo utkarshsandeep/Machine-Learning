{
 "cells": [
  {
   "cell_type": "code",
   "execution_count": 1,
   "metadata": {},
   "outputs": [
    {
     "ename": "ModuleNotFoundError",
     "evalue": "No module named 'tweepy'",
     "output_type": "error",
     "traceback": [
      "\u001b[1;31m---------------------------------------------------------------------------\u001b[0m",
      "\u001b[1;31mModuleNotFoundError\u001b[0m                       Traceback (most recent call last)",
      "\u001b[1;32m<ipython-input-1-9e0825e9ddbc>\u001b[0m in \u001b[0;36m<module>\u001b[1;34m\u001b[0m\n\u001b[1;32m----> 1\u001b[1;33m \u001b[1;32mfrom\u001b[0m \u001b[0mtweepy\u001b[0m\u001b[1;33m.\u001b[0m\u001b[0mstreaming\u001b[0m \u001b[1;32mimport\u001b[0m \u001b[0mStreamListener\u001b[0m\u001b[1;33m\u001b[0m\u001b[1;33m\u001b[0m\u001b[0m\n\u001b[0m\u001b[0;32m      2\u001b[0m \u001b[1;32mfrom\u001b[0m \u001b[0mtweepy\u001b[0m \u001b[1;32mimport\u001b[0m \u001b[0mOAuthHandler\u001b[0m\u001b[1;33m\u001b[0m\u001b[1;33m\u001b[0m\u001b[0m\n\u001b[0;32m      3\u001b[0m \u001b[1;32mfrom\u001b[0m \u001b[0mtweepy\u001b[0m \u001b[1;32mimport\u001b[0m \u001b[0mStream\u001b[0m\u001b[1;33m\u001b[0m\u001b[1;33m\u001b[0m\u001b[0m\n\u001b[0;32m      4\u001b[0m \u001b[1;32mimport\u001b[0m \u001b[0mtweepy\u001b[0m\u001b[1;33m\u001b[0m\u001b[1;33m\u001b[0m\u001b[0m\n",
      "\u001b[1;31mModuleNotFoundError\u001b[0m: No module named 'tweepy'"
     ]
    }
   ],
   "source": [
    "from tweepy.streaming import StreamListener\n",
    "from tweepy import OAuthHandler\n",
    "from tweepy import Stream\n",
    "import tweepy"
   ]
  },
  {
   "cell_type": "code",
   "execution_count": 2,
   "metadata": {},
   "outputs": [],
   "source": [
    "access_token=\"xxxxxxxxxxxxxxx000000000000000fffffffffffffffffffffff\"\n",
    "access_token_secret=\"rrrrrrrrrrrrrrrrgggggggggggggbbbbbbbbbbbb\"\n",
    "consumer_key=\"0000000ffffff0000000000\"\n",
    "consumer_secret=\"ttttttttttwwwwwwwiiiiiiiitttttttttttttttteeeeeeeerrrrrr\""
   ]
  },
  {
   "cell_type": "code",
   "execution_count": 3,
   "metadata": {},
   "outputs": [],
   "source": [
    "#This is a basic listener that just prints received tweets to study\n",
    "class StdOutListener(StreamListener):\n",
    "    def on_data(self,data):\n",
    "        print(data)\n",
    "        return true\n",
    "    def on_error(self,status):\n",
    "        print(status)\n",
    "        "
   ]
  },
  {
   "cell_type": "code",
   "execution_count": 5,
   "metadata": {},
   "outputs": [],
   "source": [
    "if __name__=='__main__':\n",
    "    #This handles twitter authentification and the connection to twitter\n",
    "    l=StdOutListener()\n",
    "    auth=OAuthHandler(consumer_key,consumer_secret)\n",
    "    auth.set_access_token(access_token,access_token_secret)\n",
    "    stream=Stream(auth,l)\n",
    "    api=tweepy.API(auth)\n",
    "    #This line filter twitter streams to capture data by keyword \n",
    "    #stream filter(track-['python','javascript','ruby'])"
   ]
  },
  {
   "cell_type": "code",
   "execution_count": 7,
   "metadata": {},
   "outputs": [
    {
     "name": "stdout",
     "output_type": "stream",
     "text": [
      "Name: Utkarsh S Singh\n",
      "Location: Dehradun, India\n",
      "Friends: 304\n"
     ]
    }
   ],
   "source": [
    "user=api.me()\n",
    "print(\"Name: \"+user.name)\n",
    "print(\"Location: \"+user.location)\n",
    "print(\"Friends: \"+str(user.friends_count))"
   ]
  },
  {
   "cell_type": "code",
   "execution_count": 8,
   "metadata": {},
   "outputs": [
    {
     "data": {
      "text/plain": [
       "User(_api=<tweepy.api.API object at 0x0000028FFA38ABE0>, _json={'id': 810517892403986433, 'id_str': '810517892403986433', 'name': 'Utkarsh S Singh', 'screen_name': 'utkarshsandeep', 'location': 'Dehradun, India', 'profile_location': {'id': '4dc738f4d56072ed', 'url': 'https://api.twitter.com/1.1/geo/id/4dc738f4d56072ed.json', 'place_type': 'unknown', 'name': 'Dehradun, India', 'full_name': 'Dehradun, India', 'country_code': '', 'country': '', 'contained_within': [], 'bounding_box': None, 'attributes': {}}, 'description': 'A crazy guy to explore😋😋😂😂', 'url': None, 'entities': {'description': {'urls': []}}, 'protected': False, 'followers_count': 11, 'friends_count': 304, 'listed_count': 0, 'created_at': 'Sun Dec 18 16:11:39 +0000 2016', 'favourites_count': 22, 'utc_offset': None, 'time_zone': None, 'geo_enabled': True, 'verified': False, 'statuses_count': 7, 'lang': 'en', 'status': {'created_at': 'Tue Feb 27 15:24:24 +0000 2018', 'id': 968507115072450560, 'id_str': '968507115072450560', 'text': 'https://t.co/31sh6mfmCZ #Peoplite#AkshayKumar', 'truncated': False, 'entities': {'hashtags': [], 'symbols': [], 'user_mentions': [], 'urls': [{'url': 'https://t.co/31sh6mfmCZ', 'expanded_url': 'http://www.peoplite.com/in/profile/AkshayKumar', 'display_url': 'peoplite.com/in/profile/Aks…', 'indices': [0, 23]}]}, 'source': '<a href=\"http://twitter.com\" rel=\"nofollow\">Twitter Web Client</a>', 'in_reply_to_status_id': None, 'in_reply_to_status_id_str': None, 'in_reply_to_user_id': None, 'in_reply_to_user_id_str': None, 'in_reply_to_screen_name': None, 'geo': None, 'coordinates': None, 'place': None, 'contributors': None, 'is_quote_status': False, 'retweet_count': 0, 'favorite_count': 1, 'favorited': False, 'retweeted': False, 'possibly_sensitive': False, 'lang': 'tr'}, 'contributors_enabled': False, 'is_translator': False, 'is_translation_enabled': False, 'profile_background_color': 'F5F8FA', 'profile_background_image_url': None, 'profile_background_image_url_https': None, 'profile_background_tile': False, 'profile_image_url': 'http://pbs.twimg.com/profile_images/841326009471381504/gQ0p1OAt_normal.jpg', 'profile_image_url_https': 'https://pbs.twimg.com/profile_images/841326009471381504/gQ0p1OAt_normal.jpg', 'profile_banner_url': 'https://pbs.twimg.com/profile_banners/810517892403986433/1482167457', 'profile_link_color': '1DA1F2', 'profile_sidebar_border_color': 'C0DEED', 'profile_sidebar_fill_color': 'DDEEF6', 'profile_text_color': '333333', 'profile_use_background_image': True, 'has_extended_profile': True, 'default_profile': True, 'default_profile_image': False, 'following': False, 'follow_request_sent': False, 'notifications': False, 'translator_type': 'none', 'suspended': False, 'needs_phone_verification': False}, id=810517892403986433, id_str='810517892403986433', name='Utkarsh S Singh', screen_name='utkarshsandeep', location='Dehradun, India', profile_location={'id': '4dc738f4d56072ed', 'url': 'https://api.twitter.com/1.1/geo/id/4dc738f4d56072ed.json', 'place_type': 'unknown', 'name': 'Dehradun, India', 'full_name': 'Dehradun, India', 'country_code': '', 'country': '', 'contained_within': [], 'bounding_box': None, 'attributes': {}}, description='A crazy guy to explore😋😋😂😂', url=None, entities={'description': {'urls': []}}, protected=False, followers_count=11, friends_count=304, listed_count=0, created_at=datetime.datetime(2016, 12, 18, 16, 11, 39), favourites_count=22, utc_offset=None, time_zone=None, geo_enabled=True, verified=False, statuses_count=7, lang='en', status=Status(_api=<tweepy.api.API object at 0x0000028FFA38ABE0>, _json={'created_at': 'Tue Feb 27 15:24:24 +0000 2018', 'id': 968507115072450560, 'id_str': '968507115072450560', 'text': 'https://t.co/31sh6mfmCZ #Peoplite#AkshayKumar', 'truncated': False, 'entities': {'hashtags': [], 'symbols': [], 'user_mentions': [], 'urls': [{'url': 'https://t.co/31sh6mfmCZ', 'expanded_url': 'http://www.peoplite.com/in/profile/AkshayKumar', 'display_url': 'peoplite.com/in/profile/Aks…', 'indices': [0, 23]}]}, 'source': '<a href=\"http://twitter.com\" rel=\"nofollow\">Twitter Web Client</a>', 'in_reply_to_status_id': None, 'in_reply_to_status_id_str': None, 'in_reply_to_user_id': None, 'in_reply_to_user_id_str': None, 'in_reply_to_screen_name': None, 'geo': None, 'coordinates': None, 'place': None, 'contributors': None, 'is_quote_status': False, 'retweet_count': 0, 'favorite_count': 1, 'favorited': False, 'retweeted': False, 'possibly_sensitive': False, 'lang': 'tr'}, created_at=datetime.datetime(2018, 2, 27, 15, 24, 24), id=968507115072450560, id_str='968507115072450560', text='https://t.co/31sh6mfmCZ #Peoplite#AkshayKumar', truncated=False, entities={'hashtags': [], 'symbols': [], 'user_mentions': [], 'urls': [{'url': 'https://t.co/31sh6mfmCZ', 'expanded_url': 'http://www.peoplite.com/in/profile/AkshayKumar', 'display_url': 'peoplite.com/in/profile/Aks…', 'indices': [0, 23]}]}, source='Twitter Web Client', source_url='http://twitter.com', in_reply_to_status_id=None, in_reply_to_status_id_str=None, in_reply_to_user_id=None, in_reply_to_user_id_str=None, in_reply_to_screen_name=None, geo=None, coordinates=None, place=None, contributors=None, is_quote_status=False, retweet_count=0, favorite_count=1, favorited=False, retweeted=False, possibly_sensitive=False, lang='tr'), contributors_enabled=False, is_translator=False, is_translation_enabled=False, profile_background_color='F5F8FA', profile_background_image_url=None, profile_background_image_url_https=None, profile_background_tile=False, profile_image_url='http://pbs.twimg.com/profile_images/841326009471381504/gQ0p1OAt_normal.jpg', profile_image_url_https='https://pbs.twimg.com/profile_images/841326009471381504/gQ0p1OAt_normal.jpg', profile_banner_url='https://pbs.twimg.com/profile_banners/810517892403986433/1482167457', profile_link_color='1DA1F2', profile_sidebar_border_color='C0DEED', profile_sidebar_fill_color='DDEEF6', profile_text_color='333333', profile_use_background_image=True, has_extended_profile=True, default_profile=True, default_profile_image=False, following=False, follow_request_sent=False, notifications=False, translator_type='none', suspended=False, needs_phone_verification=False)"
      ]
     },
     "execution_count": 8,
     "metadata": {},
     "output_type": "execute_result"
    }
   ],
   "source": [
    "user"
   ]
  },
  {
   "cell_type": "code",
   "execution_count": 18,
   "metadata": {},
   "outputs": [],
   "source": [
    "number_of_tweets=2000\n",
    "tweets=api.user_timeline(screen_name='realDonaldTrump',count=10)\n",
    "datet=[]\n",
    "for tweet in tweets:\n",
    "    datet.append(tweet.created_at)\n",
    "       #empty array\n",
    "tmp=[]\n",
    "tweets_for_csv=[tweet.text for tweet in tweets]#csv file created\n",
    "for j in tweets_for_csv:\n",
    "    tmp.append(j)\n"
   ]
  },
  {
   "cell_type": "code",
   "execution_count": 19,
   "metadata": {},
   "outputs": [
    {
     "data": {
      "text/plain": [
       "'Why didn’t President Obama do something about the so-called Russian Meddling when he was told about it by the FBI b… https://t.co/DN4mqIfPm9'"
      ]
     },
     "execution_count": 19,
     "metadata": {},
     "output_type": "execute_result"
    }
   ],
   "source": [
    "tmp[0]"
   ]
  },
  {
   "cell_type": "code",
   "execution_count": 20,
   "metadata": {},
   "outputs": [
    {
     "data": {
      "text/plain": [
       "['Why didn’t President Obama do something about the so-called Russian Meddling when he was told about it by the FBI b… https://t.co/DN4mqIfPm9',\n",
       " 'Our United States team has arrived in North Korea to make arrangements for the Summit between Kim Jong Un and mysel… https://t.co/m8XL0g7BgQ',\n",
       " 'Why didn’t the 13 Angry Democrats investigate the campaign of Crooked Hillary Clinton, many crimes, much Collusion… https://t.co/81l70BLUTy',\n",
       " 'Fantastic to have 400,000 GREAT MEN &amp; WOMEN of Rolling Thunder in D.C. showing their patriotism. They love our Coun… https://t.co/0nu9p8znvV',\n",
       " 'Who’s going to give back the young and beautiful lives (and others) that have been devastated and destroyed by the… https://t.co/Q5v532Pn9X',\n",
       " 'WELCOME HOME JOSH! https://t.co/2X0cKE4stx',\n",
       " 'When will the 13 Angry Democrats (&amp; those who worked for President O), reveal their disqualifying Conflicts of Inte… https://t.co/2X58MqnBH6',\n",
       " 'This whole Russia Probe is Rigged. Just an excuse as to why the Dems and Crooked Hillary lost the Election and Stat… https://t.co/VctDHQf9VQ',\n",
       " 'With Spies, or “Informants” as the Democrats like to call them because it sounds less sinister (but it’s not), all… https://t.co/D3WSweqmUB',\n",
       " 'The Failing @nytimes quotes “a senior White House official,” who doesn’t exist, as saying “even if the meeting were… https://t.co/ics8UcYr96']"
      ]
     },
     "execution_count": 20,
     "metadata": {},
     "output_type": "execute_result"
    }
   ],
   "source": [
    "tmp"
   ]
  },
  {
   "cell_type": "code",
   "execution_count": 16,
   "metadata": {},
   "outputs": [],
   "source": [
    "number_of_tweets1=2000\n",
    "tweets1=api.user_timeline(screen_name='narendramodi')\n",
    "datet1=[]\n",
    "for tweet1 in tweets1:\n",
    "    datet1.append(tweet1.created_at)\n",
    "       #empty array\n",
    "tmp1=[]\n",
    "tweets_for_csv1=[tweet1.text for tweet1 in tweets1]#csv file created\n",
    "for j in tweets_for_csv1:\n",
    "    tmp1.append(j)\n"
   ]
  },
  {
   "cell_type": "code",
   "execution_count": 17,
   "metadata": {},
   "outputs": [
    {
     "data": {
      "text/plain": [
       "[\"You can watch this interaction with Ujjwala beneficiaries live on @DDNewsLive and on the 'Narendra Modi Mobile App.… https://t.co/OivADhDN0M\",\n",
       " 'At 9:30 AM, will take part in a special kind of interaction, with beneficiaries of the Ujjwala Yojana from all over India. Looking forward.',\n",
       " 'I bow to Veer Savarkar on his Jayanti. Blessed with immense courage, Veer Savarkar will always be remembered for hi… https://t.co/80cCmWBMZC',\n",
       " 'Despite the scorching heat, several people came to bless us. Every Indian wants top quality infrastructure and a be… https://t.co/vZ3NhZ6Q0h',\n",
       " 'A special thank you to the people of Delhi. Here are some glimpses from the road show earlier today. https://t.co/ze2FkIeAAC',\n",
       " 'उनके लिए, उनका परिवार ही देश है लेकिन मेरे लिए, मेरा देश ही मेरा परिवार है।\\n\\nकमाने के लिए मेरे पास सिर्फ आपका स्नेह… https://t.co/q6w5qbEAz1',\n",
       " '‘नमामि गंगे’ कार्यक्रम की प्राथमिकता सिर्फ गंगा की सफाई ही नहीं बल्कि यह सुनिश्चित करना भी है कि शहरों से निकलने वा… https://t.co/lyvvADfuvi',\n",
       " 'मेहनती गन्ना किसानों के लिए हमारी सरकार निरंतर कार्य कर रही है। https://t.co/W1DcWR0zDk',\n",
       " 'गाँव और कृषि कल्याण के लिए अनेक योजनाएं विकसित की गई हैं जिनका फायदा हमारे कर्मठ किसानों तक पहुँच रहा है। https://t.co/hGC8rvzf5M',\n",
       " 'दलितों और पिछड़ों के सशक्तिकरण और सम्मान के लिए बीते चार वर्षों में केंद्र सरकार ने एक के बाद एक कई कदम उठाए हैं। ह… https://t.co/Js8G6WpWHa',\n",
       " 'अगली पीढ़ी के लिए अत्याधुनिक इन्फ्रास्ट्रक्चर के निर्माण के लिए हम प्रतिबद्ध हैं।\\n\\nहाईवे, वॉटरवे, रेलवे, एयरवे और आ… https://t.co/RPSxNSZ5kj',\n",
       " 'आज 2 महत्वपूर्ण परियोजनाओं का लोकार्पण किया। \\n\\nदिल्ली-मेरठ एक्सप्रेस-वे और ईस्टर्न पेरिफेरल एक्सप्रेस-वे यातायात को… https://t.co/y4iVt3Svxe',\n",
       " 'Today is a special day for people living in the NCR. Two key projects, Phase-1 of Delhi-Meerut Expressway and the E… https://t.co/L6EoAl3SLd',\n",
       " 'During my visit to Cuttack yesterday, I was delighted to meet D. Prakash Rao and some of the students whose life he… https://t.co/VMhrLTcHwj',\n",
       " 'A tea-seller from Odisha’s Cuttack is ensuring that youngsters receive the joys of education. I salute D. Prakash R… https://t.co/awj8sDpNHB',\n",
       " 'These women from Sikar in Rajasthan inspire every Indian. This is the Nari Shakti we are all proud of. #MannKiBaat https://t.co/g6UqqbHfrt',\n",
       " 'I am sure people across India are preparing for the #4thYogaDay. Like the earlier occasions, let us make this year’… https://t.co/eHAtSsOkn2',\n",
       " 'India is proud to host this year’s World Environment Day official programme. Living in harmony with nature is a par… https://t.co/OrrLYSDUJS',\n",
       " 'This is the right time to compile a list of various traditional games of India. If you know about traditional games… https://t.co/a7RiL1Ptjd',\n",
       " 'As the entire nation says, #HumFitTohIndiaFit, I thought #MannKiBaat was the perfect platform to talk about traditi… https://t.co/dUPGBoGJ5K']"
      ]
     },
     "execution_count": 17,
     "metadata": {},
     "output_type": "execute_result"
    }
   ],
   "source": [
    "tmp1"
   ]
  },
  {
   "cell_type": "code",
   "execution_count": 21,
   "metadata": {},
   "outputs": [
    {
     "data": {
      "text/plain": [
       "['Why didn’t President Obama do something about the so-called Russian Meddling when he was told about it by the FBI b… https://t.co/DN4mqIfPm9',\n",
       " 'Our United States team has arrived in North Korea to make arrangements for the Summit between Kim Jong Un and mysel… https://t.co/m8XL0g7BgQ',\n",
       " 'Why didn’t the 13 Angry Democrats investigate the campaign of Crooked Hillary Clinton, many crimes, much Collusion… https://t.co/81l70BLUTy',\n",
       " 'Fantastic to have 400,000 GREAT MEN &amp; WOMEN of Rolling Thunder in D.C. showing their patriotism. They love our Coun… https://t.co/0nu9p8znvV',\n",
       " 'Who’s going to give back the young and beautiful lives (and others) that have been devastated and destroyed by the… https://t.co/Q5v532Pn9X',\n",
       " 'WELCOME HOME JOSH! https://t.co/2X0cKE4stx',\n",
       " 'When will the 13 Angry Democrats (&amp; those who worked for President O), reveal their disqualifying Conflicts of Inte… https://t.co/2X58MqnBH6',\n",
       " 'This whole Russia Probe is Rigged. Just an excuse as to why the Dems and Crooked Hillary lost the Election and Stat… https://t.co/VctDHQf9VQ',\n",
       " 'With Spies, or “Informants” as the Democrats like to call them because it sounds less sinister (but it’s not), all… https://t.co/D3WSweqmUB',\n",
       " 'The Failing @nytimes quotes “a senior White House official,” who doesn’t exist, as saying “even if the meeting were… https://t.co/ics8UcYr96']"
      ]
     },
     "execution_count": 21,
     "metadata": {},
     "output_type": "execute_result"
    }
   ],
   "source": []
  },
  {
   "cell_type": "code",
   "execution_count": null,
   "metadata": {},
   "outputs": [],
   "source": []
  }
 ],
 "metadata": {
  "kernelspec": {
   "display_name": "Python 3",
   "language": "python",
   "name": "python3"
  },
  "language_info": {
   "codemirror_mode": {
    "name": "ipython",
    "version": 3
   },
   "file_extension": ".py",
   "mimetype": "text/x-python",
   "name": "python",
   "nbconvert_exporter": "python",
   "pygments_lexer": "ipython3",
   "version": "3.7.1"
  }
 },
 "nbformat": 4,
 "nbformat_minor": 2
}

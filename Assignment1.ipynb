{
 "cells": [
  {
   "cell_type": "code",
   "execution_count": 1,
   "metadata": {},
   "outputs": [
    {
     "name": "stdout",
     "output_type": "stream",
     "text": [
      "Hello people\n"
     ]
    }
   ],
   "source": [
    "msg=\"Hello people\"\n",
    "print(msg)"
   ]
  },
  {
   "cell_type": "code",
   "execution_count": 2,
   "metadata": {},
   "outputs": [
    {
     "name": "stdout",
     "output_type": "stream",
     "text": [
      "Utkarsh Sandeep Singh\n"
     ]
    }
   ],
   "source": [
    "first_name=\"Utkarsh\"\n",
    "middle_name=\"Sandeep\"\n",
    "last_name=\"Singh\"\n",
    "print(first_name+\" \"+middle_name+\" \"+last_name)"
   ]
  },
  {
   "cell_type": "code",
   "execution_count": 3,
   "metadata": {},
   "outputs": [
    {
     "name": "stdout",
     "output_type": "stream",
     "text": [
      "['Passion', 'Splendor', 'R15']\n",
      "Passion\n",
      "['Passion', 'Splendor', 'R15', 'Royal Enfield', 'BMW']\n"
     ]
    }
   ],
   "source": [
    "bikes=['Passion','Splendor','R15']\n",
    "print(bikes)\n",
    "print(bikes[0])\n",
    "bikes.append('Royal Enfield')\n",
    "bikes.append('BMW')\n",
    "print(bikes)"
   ]
  },
  {
   "cell_type": "code",
   "execution_count": 4,
   "metadata": {},
   "outputs": [
    {
     "name": "stdout",
     "output_type": "stream",
     "text": [
      "['Passion', 'Splendor', 'R15', 'Royal Enfield', 'BMW']\n"
     ]
    }
   ],
   "source": [
    "copy_bike=bikes[:]\n",
    "print(copy_bike)"
   ]
  },
  {
   "cell_type": "code",
   "execution_count": 5,
   "metadata": {},
   "outputs": [
    {
     "name": "stdout",
     "output_type": "stream",
     "text": [
      "Enter your College NameUPES\n",
      "UPES\n"
     ]
    }
   ],
   "source": [
    "S=input(\"Enter your College Name\")\n",
    "print(S)"
   ]
  },
  {
   "cell_type": "code",
   "execution_count": 6,
   "metadata": {},
   "outputs": [
    {
     "name": "stdout",
     "output_type": "stream",
     "text": [
      "Enter a no10\n",
      "10 is greater than 5\n"
     ]
    }
   ],
   "source": [
    "s=int(input(\"Enter a no\"))\n",
    "if s>5:\n",
    "    print(s,\"is greater than 5\")\n",
    "elif s==0:\n",
    "    print(s,\" is equals 0\")\n",
    "else:\n",
    "    print(s,\" is less than 5\")"
   ]
  },
  {
   "cell_type": "code",
   "execution_count": 7,
   "metadata": {},
   "outputs": [
    {
     "data": {
      "text/plain": [
       "False"
      ]
     },
     "execution_count": 7,
     "metadata": {},
     "output_type": "execute_result"
    }
   ],
   "source": [
    "'trek' in bikes"
   ]
  },
  {
   "cell_type": "code",
   "execution_count": 8,
   "metadata": {},
   "outputs": [
    {
     "data": {
      "text/plain": [
       "True"
      ]
     },
     "execution_count": 8,
     "metadata": {},
     "output_type": "execute_result"
    }
   ],
   "source": [
    "'Royal Enfield' in bikes"
   ]
  },
  {
   "cell_type": "code",
   "execution_count": 10,
   "metadata": {},
   "outputs": [
    {
     "name": "stdout",
     "output_type": "stream",
     "text": [
      "10\n",
      "10\n",
      "9\n",
      "8\n",
      "7\n",
      "6\n",
      "5\n",
      "4\n",
      "3\n",
      "2\n",
      "1\n"
     ]
    }
   ],
   "source": [
    "s=int(input())\n",
    "while s>0:\n",
    "    print(s)\n",
    "    s=s-1\n"
   ]
  },
  {
   "cell_type": "code",
   "execution_count": 13,
   "metadata": {},
   "outputs": [
    {
     "name": "stdout",
     "output_type": "stream",
     "text": [
      "Adesh\n",
      "Hello Mr.  Adesh\n"
     ]
    }
   ],
   "source": [
    "def display(name):\n",
    "    print(\"Hello Mr. \",name)\n",
    "display(input())"
   ]
  },
  {
   "cell_type": "code",
   "execution_count": 12,
   "metadata": {},
   "outputs": [
    {
     "name": "stdout",
     "output_type": "stream",
     "text": [
      "Passion\n",
      "Splendor\n",
      "R15\n",
      "Royal Enfield\n",
      "BMW\n"
     ]
    }
   ],
   "source": [
    "for i in copy_bike:\n",
    "    print(i)"
   ]
  },
  {
   "cell_type": "code",
   "execution_count": 15,
   "metadata": {},
   "outputs": [
    {
     "name": "stdout",
     "output_type": "stream",
     "text": [
      "the marks of Adesh in stats is 79\n"
     ]
    }
   ],
   "source": [
    "adesh={'stats':79,'dcn':66,'php':77}\n",
    "print(\"the marks of Adesh in stats is\",adesh['stats'])"
   ]
  },
  {
   "cell_type": "code",
   "execution_count": null,
   "metadata": {},
   "outputs": [],
   "source": []
  }
 ],
 "metadata": {
  "kernelspec": {
   "display_name": "Python 3",
   "language": "python",
   "name": "python3"
  },
  "language_info": {
   "codemirror_mode": {
    "name": "ipython",
    "version": 3
   },
   "file_extension": ".py",
   "mimetype": "text/x-python",
   "name": "python",
   "nbconvert_exporter": "python",
   "pygments_lexer": "ipython3",
   "version": "3.6.4"
  }
 },
 "nbformat": 4,
 "nbformat_minor": 2
}

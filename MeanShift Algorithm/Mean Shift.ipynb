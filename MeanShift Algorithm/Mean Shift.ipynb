{
 "cells": [
  {
   "cell_type": "code",
   "execution_count": 1,
   "metadata": {},
   "outputs": [],
   "source": [
    "import matplotlib.pyplot as plt\n",
    "from matplotlib import style\n",
    "style.use('ggplot')\n",
    "import numpy as np"
   ]
  },
  {
   "cell_type": "code",
   "execution_count": 2,
   "metadata": {},
   "outputs": [],
   "source": [
    "X=np.array([[1,2],[1.5,1.8],[5,8],[8,8],[1,0.6],[9,11],[8,2],[10,2],[9,3]])"
   ]
  },
  {
   "cell_type": "code",
   "execution_count": 3,
   "metadata": {},
   "outputs": [
    {
     "data": {
      "image/png": "[encoded data removed]",
      "text/plain": [
       "<matplotlib.figure.Figure at 0x275ba40c2e8>"
      ]
     },
     "metadata": {},
     "output_type": "display_data"
    }
   ],
   "source": [
    "plt.scatter(X[:,0],X[:,1],s=150)\n",
    "plt.show()\n",
    "colors=10*[\"g\",\"r\",\"c\",\"b\",\"k\"]"
   ]
  },
  {
   "cell_type": "code",
   "execution_count": 4,
   "metadata": {},
   "outputs": [],
   "source": [
    "class Mean_Shift:\n",
    "    def __init__(self,radius=5):\n",
    "        self.radius=radius\n",
    "    def fit(self,data):\n",
    "        centroids={}\n",
    "        for i in range(len(data)):\n",
    "            centroids[i]=data[i]\n",
    "        while True:\n",
    "            new_centroids=[]\n",
    "            for i in centroids:\n",
    "                print(\"------\",centroids)\n",
    "                in_bandwidth=[]\n",
    "                centroid=centroids[i]\n",
    "                print(\"------------\",centroid)\n",
    "                for featureset in data:\n",
    "                    if(np.linalg.norm(featureset-centroid)<self.radius):\n",
    "                        in_bandwidth.append(featureset)\n",
    "                new_centroid=np.average(in_bandwidth,axis=0)\n",
    "                new_centroids.append(tuple(new_centroid))\n",
    "            print(\"------C-------\",new_centroids)\n",
    "            uniques=sorted(list(set(new_centroids)))\n",
    "            print(\"---------U-------\",uniques)\n",
    "            prev_centroids=dict(centroids)\n",
    "            centroids={}\n",
    "            for i in range(len(uniques)):\n",
    "                centroids[i]=np.array(uniques[i])\n",
    "            optimized=True\n",
    "            for i in centroids:\n",
    "                if(np.array_equal(centroids[i],prev_centroids[i]))!=True:\n",
    "                    optimized=False\n",
    "                if optimized!=True:\n",
    "                    break\n",
    "            if optimized:\n",
    "                break\n",
    "        self.centroids=centroids"
   ]
  },
  {
   "cell_type": "code",
   "execution_count": 5,
   "metadata": {
    "scrolled": true
   },
   "outputs": [
    {
     "name": "stdout",
     "output_type": "stream",
     "text": [
      "------ {0: array([1., 2.]), 1: array([1.5, 1.8]), 2: array([5., 8.]), 3: array([8., 8.]), 4: array([1. , 0.6]), 5: array([ 9., 11.]), 6: array([8., 2.]), 7: array([10.,  2.]), 8: array([9., 3.])}\n",
      "------------ [1. 2.]\n",
      "------ {0: array([1., 2.]), 1: array([1.5, 1.8]), 2: array([5., 8.]), 3: array([8., 8.]), 4: array([1. , 0.6]), 5: array([ 9., 11.]), 6: array([8., 2.]), 7: array([10.,  2.]), 8: array([9., 3.])}\n",
      "------------ [1.5 1.8]\n",
      "------ {0: array([1., 2.]), 1: array([1.5, 1.8]), 2: array([5., 8.]), 3: array([8., 8.]), 4: array([1. , 0.6]), 5: array([ 9., 11.]), 6: array([8., 2.]), 7: array([10.,  2.]), 8: array([9., 3.])}\n",
      "------------ [5. 8.]\n",
      "------ {0: array([1., 2.]), 1: array([1.5, 1.8]), 2: array([5., 8.]), 3: array([8., 8.]), 4: array([1. , 0.6]), 5: array([ 9., 11.]), 6: array([8., 2.]), 7: array([10.,  2.]), 8: array([9., 3.])}\n",
      "------------ [8. 8.]\n",
      "------ {0: array([1., 2.]), 1: array([1.5, 1.8]), 2: array([5., 8.]), 3: array([8., 8.]), 4: array([1. , 0.6]), 5: array([ 9., 11.]), 6: array([8., 2.]), 7: array([10.,  2.]), 8: array([9., 3.])}\n",
      "------------ [1.  0.6]\n",
      "------ {0: array([1., 2.]), 1: array([1.5, 1.8]), 2: array([5., 8.]), 3: array([8., 8.]), 4: array([1. , 0.6]), 5: array([ 9., 11.]), 6: array([8., 2.]), 7: array([10.,  2.]), 8: array([9., 3.])}\n",
      "------------ [ 9. 11.]\n",
      "------ {0: array([1., 2.]), 1: array([1.5, 1.8]), 2: array([5., 8.]), 3: array([8., 8.]), 4: array([1. , 0.6]), 5: array([ 9., 11.]), 6: array([8., 2.]), 7: array([10.,  2.]), 8: array([9., 3.])}\n",
      "------------ [8. 2.]\n",
      "------ {0: array([1., 2.]), 1: array([1.5, 1.8]), 2: array([5., 8.]), 3: array([8., 8.]), 4: array([1. , 0.6]), 5: array([ 9., 11.]), 6: array([8., 2.]), 7: array([10.,  2.]), 8: array([9., 3.])}\n",
      "------------ [10.  2.]\n",
      "------ {0: array([1., 2.]), 1: array([1.5, 1.8]), 2: array([5., 8.]), 3: array([8., 8.]), 4: array([1. , 0.6]), 5: array([ 9., 11.]), 6: array([8., 2.]), 7: array([10.,  2.]), 8: array([9., 3.])}\n",
      "------------ [9. 3.]\n",
      "------C------- [(1.1666666666666667, 1.4666666666666666), (1.1666666666666667, 1.4666666666666666), (6.5, 8.0), (7.333333333333333, 9.0), (1.1666666666666667, 1.4666666666666666), (8.5, 9.5), (9.0, 2.3333333333333335), (9.0, 2.3333333333333335), (9.0, 2.3333333333333335)]\n",
      "---------U------- [(1.1666666666666667, 1.4666666666666666), (6.5, 8.0), (7.333333333333333, 9.0), (8.5, 9.5), (9.0, 2.3333333333333335)]\n",
      "------ {0: array([1.16666667, 1.46666667]), 1: array([6.5, 8. ]), 2: array([7.33333333, 9.        ]), 3: array([8.5, 9.5]), 4: array([9.        , 2.33333333])}\n",
      "------------ [1.16666667 1.46666667]\n",
      "------ {0: array([1.16666667, 1.46666667]), 1: array([6.5, 8. ]), 2: array([7.33333333, 9.        ]), 3: array([8.5, 9.5]), 4: array([9.        , 2.33333333])}\n",
      "------------ [6.5 8. ]\n",
      "------ {0: array([1.16666667, 1.46666667]), 1: array([6.5, 8. ]), 2: array([7.33333333, 9.        ]), 3: array([8.5, 9.5]), 4: array([9.        , 2.33333333])}\n",
      "------------ [7.33333333 9.        ]\n",
      "------ {0: array([1.16666667, 1.46666667]), 1: array([6.5, 8. ]), 2: array([7.33333333, 9.        ]), 3: array([8.5, 9.5]), 4: array([9.        , 2.33333333])}\n",
      "------------ [8.5 9.5]\n",
      "------ {0: array([1.16666667, 1.46666667]), 1: array([6.5, 8. ]), 2: array([7.33333333, 9.        ]), 3: array([8.5, 9.5]), 4: array([9.        , 2.33333333])}\n",
      "------------ [9.         2.33333333]\n",
      "------C------- [(1.1666666666666667, 1.4666666666666666), (7.333333333333333, 9.0), (7.333333333333333, 9.0), (7.333333333333333, 9.0), (9.0, 2.3333333333333335)]\n",
      "---------U------- [(1.1666666666666667, 1.4666666666666666), (7.333333333333333, 9.0), (9.0, 2.3333333333333335)]\n",
      "------ {0: array([1.16666667, 1.46666667]), 1: array([7.33333333, 9.        ]), 2: array([9.        , 2.33333333])}\n",
      "------------ [1.16666667 1.46666667]\n",
      "------ {0: array([1.16666667, 1.46666667]), 1: array([7.33333333, 9.        ]), 2: array([9.        , 2.33333333])}\n",
      "------------ [7.33333333 9.        ]\n",
      "------ {0: array([1.16666667, 1.46666667]), 1: array([7.33333333, 9.        ]), 2: array([9.        , 2.33333333])}\n",
      "------------ [9.         2.33333333]\n",
      "------C------- [(1.1666666666666667, 1.4666666666666666), (7.333333333333333, 9.0), (9.0, 2.3333333333333335)]\n",
      "---------U------- [(1.1666666666666667, 1.4666666666666666), (7.333333333333333, 9.0), (9.0, 2.3333333333333335)]\n"
     ]
    }
   ],
   "source": [
    "clf=Mean_Shift(radius=5)\n",
    "clf.fit(X)"
   ]
  },
  {
   "cell_type": "code",
   "execution_count": 6,
   "metadata": {},
   "outputs": [
    {
     "data": {
      "image/png": "[encoded data removed]",
      "text/plain": [
       "<matplotlib.figure.Figure at 0x275ba6e8fd0>"
      ]
     },
     "metadata": {},
     "output_type": "display_data"
    }
   ],
   "source": [
    "centroids=clf.centroids\n",
    "plt.scatter(X[:,0],X[:,1],s=150)\n",
    "for c in centroids:\n",
    "    plt.scatter(centroids[c][0],centroids[c][1],color='k',marker='*',s=150)\n",
    "plt.show()"
   ]
  },
  {
   "cell_type": "code",
   "execution_count": 11,
   "metadata": {},
   "outputs": [],
   "source": [
    "labels=[]\n",
    "def check(data):\n",
    "    centroids=clf.centroids\n",
    "    distances=[np.linalg.norm(data-centroids[centroid])for centroid in centroids]\n",
    "    classification=distances.index(min(distances))\n",
    "    labels.append(classification)"
   ]
  },
  {
   "cell_type": "code",
   "execution_count": 12,
   "metadata": {},
   "outputs": [
    {
     "name": "stdout",
     "output_type": "stream",
     "text": [
      "[0, 0, 1, 1, 0, 1, 2, 2, 2]\n"
     ]
    }
   ],
   "source": [
    "for data in X:\n",
    "    check(data)\n",
    "print(labels)"
   ]
  },
  {
   "cell_type": "code",
   "execution_count": 13,
   "metadata": {},
   "outputs": [
    {
     "data": {
      "image/png": "[encoded data removed]",
      "text/plain": [
       "<matplotlib.figure.Figure at 0x275ba7ca828>"
      ]
     },
     "metadata": {},
     "output_type": "display_data"
    }
   ],
   "source": [
    "centroids=clf.centroids\n",
    "uniq=set(labels)\n",
    "for i in range(len(X)):\n",
    "    plt.scatter(X[i][0],X[i][1],s=150,color=colors[labels[i]])\n",
    "for c in centroids:\n",
    "    plt.scatter(centroids[c][0],centroids[c][1],color=colors[c],marker=\"*\",s=150)\n",
    "plt.show()"
   ]
  },
  {
   "cell_type": "code",
   "execution_count": null,
   "metadata": {},
   "outputs": [],
   "source": []
  }
 ],
 "metadata": {
  "kernelspec": {
   "display_name": "Python 3",
   "language": "python",
   "name": "python3"
  },
  "language_info": {
   "codemirror_mode": {
    "name": "ipython",
    "version": 3
   },
   "file_extension": ".py",
   "mimetype": "text/x-python",
   "name": "python",
   "nbconvert_exporter": "python",
   "pygments_lexer": "ipython3",
   "version": "3.6.4"
  }
 },
 "nbformat": 4,
 "nbformat_minor": 2
}

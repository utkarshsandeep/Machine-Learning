{
 "cells": [
  {
   "cell_type": "code",
   "execution_count": 5,
   "metadata": {},
   "outputs": [],
   "source": [
    "import numpy as np\n",
    "from sklearn.cluster import MeanShift\n",
    "from sklearn.datasets.samples_generator import make_blobs\n",
    "import matplotlib.pyplot as plt\n",
    "from mpl_toolkits.mplot3d import Axes3D\n",
    "from matplotlib import style\n",
    "style.use('ggplot')"
   ]
  },
  {
   "cell_type": "code",
   "execution_count": 6,
   "metadata": {},
   "outputs": [],
   "source": [
    "centers=[[0,0,0],[50,30,20],[100,100,100]]"
   ]
  },
  {
   "cell_type": "code",
   "execution_count": 7,
   "metadata": {},
   "outputs": [],
   "source": [
    "X,Z=make_blobs(n_samples=10,centers=centers,cluster_std=9)"
   ]
  },
  {
   "cell_type": "code",
   "execution_count": 8,
   "metadata": {},
   "outputs": [
    {
     "name": "stdout",
     "output_type": "stream",
     "text": [
      "[[ 58.58583928  29.03898846  26.88955104]\n",
      " [ 82.41903655  94.81926431 110.91949472]\n",
      " [ 51.71663736  16.2676303   21.74402024]\n",
      " [  3.69112274  10.31890071  -0.55221162]\n",
      " [ 77.03402994 105.08667517  91.76420899]\n",
      " [  4.12501445   3.83409677   1.72464877]\n",
      " [  1.19692702  -4.17062257   7.08469871]\n",
      " [-18.4341903   -8.162415    16.91264166]\n",
      " [ 93.05766185  96.38863788 101.16770783]\n",
      " [ 30.11855488  23.54594883  14.26971556]]\n",
      "[1 2 1 0 2 0 0 0 2 1]\n"
     ]
    }
   ],
   "source": [
    "print(X)\n",
    "print(Z)"
   ]
  },
  {
   "cell_type": "code",
   "execution_count": null,
   "metadata": {},
   "outputs": [],
   "source": []
  }
 ],
 "metadata": {
  "kernelspec": {
   "display_name": "Python 3",
   "language": "python",
   "name": "python3"
  },
  "language_info": {
   "codemirror_mode": {
    "name": "ipython",
    "version": 3
   },
   "file_extension": ".py",
   "mimetype": "text/x-python",
   "name": "python",
   "nbconvert_exporter": "python",
   "pygments_lexer": "ipython3",
   "version": "3.6.4"
  }
 },
 "nbformat": 4,
 "nbformat_minor": 2
}

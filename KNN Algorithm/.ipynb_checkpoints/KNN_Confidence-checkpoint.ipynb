{
 "cells": [
  {
   "cell_type": "code",
   "execution_count": 1,
   "metadata": {},
   "outputs": [],
   "source": [
    "import numpy as np\n",
    "import matplotlib.pyplot as plt\n",
    "from matplotlib import style\n",
    "from math import sqrt\n",
    "from collections import Counter"
   ]
  },
  {
   "cell_type": "code",
   "execution_count": 2,
   "metadata": {},
   "outputs": [],
   "source": [
    "dataset={'k':[[1,2],[2,3],[3,1]],'r':[[6,5],[7,7],[8,6]]}\n",
    "new_feature=[5,7]"
   ]
  },
  {
   "cell_type": "code",
   "execution_count": 3,
   "metadata": {},
   "outputs": [
    {
     "data": {
      "image/png": "[encoded data removed]",
      "text/plain": [
       "<matplotlib.figure.Figure at 0x23bbb4a38d0>"
      ]
     },
     "metadata": {},
     "output_type": "display_data"
    }
   ],
   "source": [
    "plt.xlabel('Time')\n",
    "plt.ylabel('Distance')\n",
    "for i in dataset:\n",
    "    for j in dataset[i]:\n",
    "        plt.scatter(j[0],j[1],s=100,color=i)\n",
    "plt.scatter(new_feature[0],new_feature[1],s=100)\n",
    "plt.show()"
   ]
  },
  {
   "cell_type": "code",
   "execution_count": 4,
   "metadata": {},
   "outputs": [],
   "source": [
    "def KNN(data,predict,K=4):\n",
    "    print(len(data))\n",
    "    if len(data)>=K:\n",
    "        print(\"K should be less than data\")\n",
    "    dist=[]\n",
    "    for group in data:\n",
    "        for feature in data[group]:\n",
    "            Euclid_distance=np.linalg.norm(np.array(feature)-np.array(predict))\n",
    "            dist.append([Euclid_distance,group])\n",
    "    votes=[i[1] for i in sorted(dist)[:K]]\n",
    "    print(votes)\n",
    "    print(Counter(votes))\n",
    "    list=Counter(votes)\n",
    "    Total=0\n",
    "    for val in list.values():\n",
    "        Total+=val\n",
    "    for key,val in list.items():\n",
    "        conf=val/Total\n",
    "        print(\"Confidence interval on \",key,\": \",conf)\n",
    "    vote_result=Counter(votes).most_common(1)[0][0]\n",
    "    return vote_result"
   ]
  },
  {
   "cell_type": "code",
   "execution_count": 5,
   "metadata": {},
   "outputs": [
    {
     "name": "stdout",
     "output_type": "stream",
     "text": [
      "2\n",
      "['r', 'r', 'r', 'k']\n",
      "Counter({'r': 3, 'k': 1})\n",
      "Confidence interval on  r :  0.75\n",
      "Confidence interval on  k :  0.25\n",
      "r\n"
     ]
    }
   ],
   "source": [
    "result=KNN(dataset,new_feature)\n",
    "print(result)"
   ]
  },
  {
   "cell_type": "code",
   "execution_count": null,
   "metadata": {},
   "outputs": [],
   "source": []
  }
 ],
 "metadata": {
  "kernelspec": {
   "display_name": "Python 3",
   "language": "python",
   "name": "python3"
  },
  "language_info": {
   "codemirror_mode": {
    "name": "ipython",
    "version": 3
   },
   "file_extension": ".py",
   "mimetype": "text/x-python",
   "name": "python",
   "nbconvert_exporter": "python",
   "pygments_lexer": "ipython3",
   "version": "3.6.4"
  }
 },
 "nbformat": 4,
 "nbformat_minor": 2
}

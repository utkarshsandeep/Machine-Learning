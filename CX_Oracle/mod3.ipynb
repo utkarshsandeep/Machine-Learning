{
 "cells": [
  {
   "cell_type": "code",
   "execution_count": 12,
   "metadata": {},
   "outputs": [],
   "source": [
    "import cx_Oracle"
   ]
  },
  {
   "cell_type": "code",
   "execution_count": 13,
   "metadata": {},
   "outputs": [],
   "source": [
    "con=cx_Oracle.connect(\"system/123456@localhost/xe\")"
   ]
  },
  {
   "cell_type": "code",
   "execution_count": 14,
   "metadata": {},
   "outputs": [],
   "source": [
    "cur=con.cursor()"
   ]
  },
  {
   "cell_type": "code",
   "execution_count": 15,
   "metadata": {},
   "outputs": [
    {
     "name": "stderr",
     "output_type": "stream",
     "text": [
      "ERROR:root:An unexpected error occurred while tokenizing input\n",
      "The following traceback may be corrupted or invalid\n",
      "The error message is: ('EOF in multi-line string', (1, 73))\n",
      "\n"
     ]
    },
    {
     "ename": "DatabaseError",
     "evalue": "ORA-00955: name is already used by an existing object",
     "output_type": "error",
     "traceback": [
      "\u001b[1;31m---------------------------------------------------------------------------\u001b[0m",
      "\u001b[1;31mDatabaseError\u001b[0m                             Traceback (most recent call last)",
      "\u001b[1;32m<ipython-input-15-c9aeafdd02ff>\u001b[0m in \u001b[0;36m<module>\u001b[1;34m()\u001b[0m\n\u001b[0;32m     10\u001b[0m  \u001b[0mDateofSignup\u001b[0m \u001b[0mDate\u001b[0m\u001b[1;33m,\u001b[0m\u001b[1;33m\u001b[0m\u001b[0m\n\u001b[0;32m     11\u001b[0m  \u001b[0mDateofRenewal\u001b[0m \u001b[0mDate\u001b[0m\u001b[1;33m,\u001b[0m\u001b[1;33m\u001b[0m\u001b[0m\n\u001b[1;32m---> 12\u001b[1;33m  RenewalStatus Varchar2(10) CHECK (RenewalStatus IN('Active','Expired')))\"\"\")\n\u001b[0m",
      "\u001b[1;31mDatabaseError\u001b[0m: ORA-00955: name is already used by an existing object"
     ]
    }
   ],
   "source": [
    "cur.execute(\"\"\"CREATE TABLE Employer(\n",
    " CompanyID varchar2(5) PRIMARY KEY,\n",
    " CompanyName Varchar2(50) NOT NULL,\n",
    " EmailID Varchar2(30),\n",
    " Mobile Number(10) CHECK (length(Mobile)=10),\n",
    " City Varchar2(15),\n",
    " IndustryType Varchar2(20),\n",
    " FunctionalArea Varchar2(20),\n",
    " MembershipPlan Varchar2(20) CHECK (MembershipPlan IN('Trial','Monthly','Yearly')),\n",
    " DateofSignup Date,\n",
    " DateofRenewal Date,\n",
    " RenewalStatus Varchar2(10) CHECK (RenewalStatus IN('Active','Expired')))\"\"\")"
   ]
  },
  {
   "cell_type": "code",
   "execution_count": 16,
   "metadata": {},
   "outputs": [
    {
     "name": "stdout",
     "output_type": "stream",
     "text": [
      "None\n"
     ]
    }
   ],
   "source": [
    "print(cur.description)"
   ]
  },
  {
   "cell_type": "code",
   "execution_count": null,
   "metadata": {},
   "outputs": [],
   "source": []
  }
 ],
 "metadata": {
  "kernelspec": {
   "display_name": "Python 3",
   "language": "python",
   "name": "python3"
  },
  "language_info": {
   "codemirror_mode": {
    "name": "ipython",
    "version": 3
   },
   "file_extension": ".py",
   "mimetype": "text/x-python",
   "name": "python",
   "nbconvert_exporter": "python",
   "pygments_lexer": "ipython3",
   "version": "3.6.4"
  }
 },
 "nbformat": 4,
 "nbformat_minor": 2
}

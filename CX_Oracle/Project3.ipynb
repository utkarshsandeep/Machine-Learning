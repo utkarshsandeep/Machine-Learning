{
 "cells": [
  {
   "cell_type": "code",
   "execution_count": 1,
   "metadata": {},
   "outputs": [],
   "source": [
    "import cx_Oracle"
   ]
  },
  {
   "cell_type": "code",
   "execution_count": 10,
   "metadata": {},
   "outputs": [],
   "source": [
    "con1=cx_Oracle.connect(\"NEWSYSTEM/123456@localhost/xe\")"
   ]
  },
  {
   "cell_type": "code",
   "execution_count": 11,
   "metadata": {},
   "outputs": [],
   "source": [
    "cur1=con1.cursor()"
   ]
  },
  {
   "cell_type": "code",
   "execution_count": 12,
   "metadata": {},
   "outputs": [],
   "source": [
    "cur1.description"
   ]
  },
  {
   "cell_type": "code",
   "execution_count": 13,
   "metadata": {},
   "outputs": [
    {
     "name": "stdout",
     "output_type": "stream",
     "text": [
      "[('P102', 'koala', 'D:\\\\btech\\\\python\\\\kaola.jpg', datetime.datetime(2017, 2, 3, 0, 0), 'ANIMAL', 'U002', 19), ('P103', 'desert', 'D:\\\\python notes\\\\desert.jpg', datetime.datetime(2018, 6, 18, 0, 0), 'AREA', 'U003', 0), ('P104', 'winter', 'D:\\\\python notes\\\\winter.jpg', datetime.datetime(2017, 2, 27, 0, 0), 'WEATHER', 'U004', 46), ('P106', 'tulips', 'D:\\\\btech\\\\python\\\\tulips.jpg', datetime.datetime(2017, 8, 3, 0, 0), 'FLOWER', 'U006', 37), ('P107', 'computer', 'D:\\\\btech\\\\python\\\\computer.jpg', datetime.datetime(2018, 5, 5, 0, 0), 'DEVICE', 'U007', 45)]\n"
     ]
    }
   ],
   "source": [
    "cur1.execute(\"Select * from PICTURE\")\n",
    "print(cur1.fetchall())"
   ]
  },
  {
   "cell_type": "code",
   "execution_count": 8,
   "metadata": {},
   "outputs": [
    {
     "name": "stdout",
     "output_type": "stream",
     "text": [
      "type the folowing nos for the different functionalities\n",
      "      1 Pic with maximum like\n",
      "      2 Pic with minimum like\n",
      "      3 User with maximum like\n",
      "      4 Pic with music caption\n",
      "      5 Popular Tag\n",
      "      6 Most liked User\n",
      "      7 Old Picture\n",
      "      8 Delete inactive User\n",
      "      7\n"
     ]
    },
    {
     "ename": "DatabaseError",
     "evalue": "ORA-01858: a non-numeric character was found where a numeric was expected",
     "output_type": "error",
     "traceback": [
      "\u001b[1;31m---------------------------------------------------------------------------\u001b[0m",
      "\u001b[1;31mDatabaseError\u001b[0m                             Traceback (most recent call last)",
      "\u001b[1;32m<ipython-input-8-bbd66e2a6240>\u001b[0m in \u001b[0;36m<module>\u001b[1;34m()\u001b[0m\n\u001b[0;32m     44\u001b[0m         cur1.execute(\"\"\"select * \n\u001b[0;32m     45\u001b[0m         \u001b[1;32mfrom\u001b[0m \u001b[0mpicture\u001b[0m\u001b[1;33m\u001b[0m\u001b[0m\n\u001b[1;32m---> 46\u001b[1;33m         where CAPTURE_DATE<='FEB-02-2017'\"\"\")\n\u001b[0m\u001b[0;32m     47\u001b[0m         \u001b[0mprint\u001b[0m\u001b[1;33m(\u001b[0m\u001b[0mcur1\u001b[0m\u001b[1;33m.\u001b[0m\u001b[0mfetchall\u001b[0m\u001b[1;33m(\u001b[0m\u001b[1;33m)\u001b[0m\u001b[1;33m)\u001b[0m\u001b[1;33m\u001b[0m\u001b[0m\n\u001b[0;32m     48\u001b[0m     \u001b[1;32melse\u001b[0m\u001b[1;33m:\u001b[0m\u001b[1;33m\u001b[0m\u001b[0m\n",
      "\u001b[1;31mDatabaseError\u001b[0m: ORA-01858: a non-numeric character was found where a numeric was expected"
     ]
    }
   ],
   "source": [
    "x=0\n",
    "while(x==0):\n",
    "    choice=int(input(\"\"\"type the folowing nos for the different functionalities\n",
    "      1 Pic with maximum like\n",
    "      2 Pic with minimum like\n",
    "      3 User with maximum like\n",
    "      4 Pic with music caption\n",
    "      5 Popular Tag\n",
    "      6 Most liked User\n",
    "      7 Old Picture\n",
    "      8 Delete inactive User\n",
    "      \"\"\"))\n",
    "    if choice==1:\n",
    "        cur1.execute(\"\"\"select * \n",
    "        from picture \n",
    "        where likes=(select max(likes) from picture)\"\"\")\n",
    "        print(cur1.fetchall())\n",
    "    elif choice==2:\n",
    "        cur1.execute(\"\"\"select * \n",
    "        from picture \n",
    "        where likes=(select min(likes) from picture)\"\"\")\n",
    "        print(cur1.fetchall())\n",
    "    elif choice==3:\n",
    "        cur1.execute(\"\"\"select * \n",
    "        from users \n",
    "        where likes=(select max(likes) from users)\"\"\")\n",
    "        print(cur1.fetchall())\n",
    "    elif choice==4:\n",
    "        cur1.execute(\"\"\"select * \n",
    "        from picture \n",
    "        where pic_capton='music'\"\"\")\n",
    "        print(cur1.fetchall())\n",
    "    elif choice==5:\n",
    "        cur1.execute(\"\"\"select * \n",
    "        from picture \n",
    "        where tags='WEATHER'\"\"\")\n",
    "        print(cur1.fetchall())\n",
    "    elif choice==6:\n",
    "        cur1.execute(\"\"\"select * \n",
    "        from users \n",
    "        where likes=(select max(likes) from users)\"\"\")\n",
    "        print(cur1.fetchall())\n",
    "    elif choice==7:\n",
    "        cur1.execute(\"\"\"select * \n",
    "        from picture \n",
    "        where CAPTURE_DATE<='FEB-02-2017'\"\"\")\n",
    "        print(cur1.fetchall())\n",
    "    else:\n",
    "        cur1.execute(\"\"\"DELETE picture \n",
    "        where CAPTURE_DATE<='FEB-02-2017'\"\"\")\n",
    "        cur1.execute(\"\"\"select * \n",
    "        from picture \"\"\")\n",
    "        print(cur1.fetchall())\n",
    "    x=int(input(\"More query press 0 or terminate press any no\"))"
   ]
  },
  {
   "cell_type": "code",
   "execution_count": 70,
   "metadata": {},
   "outputs": [
    {
     "name": "stdout",
     "output_type": "stream",
     "text": [
      "type the folowing nos for the different functionalities\n",
      "      1 Pic with maximum like\n",
      "      2 Pic with minimum like\n",
      "      3 User with maximum like\n",
      "      4 Pic with music caption\n",
      "      5 Popular Tag\n",
      "      6 Most liked User\n",
      "      7 Old Picture\n",
      "      8 Delete inactive User\n",
      "      8\n"
     ]
    },
    {
     "ename": "DatabaseError",
     "evalue": "ORA-01843: not a valid month",
     "output_type": "error",
     "traceback": [
      "\u001b[1;31m---------------------------------------------------------------------------\u001b[0m",
      "\u001b[1;31mDatabaseError\u001b[0m                             Traceback (most recent call last)",
      "\u001b[1;32m<ipython-input-70-f2c055061390>\u001b[0m in \u001b[0;36m<module>\u001b[1;34m()\u001b[0m\n\u001b[0;32m     41\u001b[0m     \u001b[1;32melse\u001b[0m\u001b[1;33m:\u001b[0m\u001b[1;33m\u001b[0m\u001b[0m\n\u001b[0;32m     42\u001b[0m         print(cur1.execute(\"\"\"DELETE picture \n\u001b[1;32m---> 43\u001b[1;33m         where CAPTURE_DATE<='02/03/2017'\"\"\"))\n\u001b[0m\u001b[0;32m     44\u001b[0m         print(cur1.execute(\"\"\"select * \n\u001b[0;32m     45\u001b[0m         from picture \"\"\"))\n",
      "\u001b[1;31mDatabaseError\u001b[0m: ORA-01843: not a valid month"
     ]
    }
   ],
   "source": [
    "x=0\n",
    "while(x==0):\n",
    "    choice=int(input(\"\"\"type the folowing nos for the different functionalities\n",
    "      1 Pic with maximum like\n",
    "      2 Pic with minimum like\n",
    "      3 User with maximum like\n",
    "      4 Pic with music caption\n",
    "      5 Popular Tag\n",
    "      6 Most liked User\n",
    "      7 Old Picture\n",
    "      8 Delete inactive User\n",
    "      \"\"\"))\n",
    "    if choice==1:\n",
    "        print(cur1.execute(\"\"\"select * \n",
    "        from picture \n",
    "        where likes=(select max(likes) from picture)\"\"\"))\n",
    "    elif choice==2:\n",
    "        print(cur1.execute(\"\"\"select * \n",
    "        from picture \n",
    "        where likes=(select min(likes) from picture)\"\"\"))\n",
    "    elif choice==3:\n",
    "        print(cur1.execute(\"\"\"select * \n",
    "        from users \n",
    "        where likes=(select max(likes) from users)\"\"\"))\n",
    "    elif choice==4:\n",
    "        print(cur1.execute(\"\"\"select * \n",
    "        from picture \n",
    "        where pic_capton='music'\"\"\"))\n",
    "    elif choice==5:\n",
    "        print(cur1.execute(\"\"\"select * \n",
    "        from picture \n",
    "        where tags='WEATHER'\"\"\"))\n",
    "    elif choice==6:\n",
    "        print(cur1.execute(\"\"\"select * \n",
    "        from users \n",
    "        where likes=(select max(likes) from users)\"\"\"))\n",
    "    elif choice==7:\n",
    "        print(cur1.execute(\"\"\"select * \n",
    "        from picture \n",
    "        where CAPTURE_DATE<='FEB-02-2017'\"\"\"))\n",
    "    else:\n",
    "        print(cur1.execute(\"\"\"DELETE picture \n",
    "        where CAPTURE_DATE<='FEB-02-2017'\"\"\"))\n",
    "        print(cur1.execute(\"\"\"select * \n",
    "        from picture \"\"\"))\n",
    "    x=int(input(\"More query press 0 or terminate press any no\"))"
   ]
  },
  {
   "cell_type": "code",
   "execution_count": null,
   "metadata": {},
   "outputs": [],
   "source": []
  }
 ],
 "metadata": {
  "kernelspec": {
   "display_name": "Python 3",
   "language": "python",
   "name": "python3"
  },
  "language_info": {
   "codemirror_mode": {
    "name": "ipython",
    "version": 3
   },
   "file_extension": ".py",
   "mimetype": "text/x-python",
   "name": "python",
   "nbconvert_exporter": "python",
   "pygments_lexer": "ipython3",
   "version": "3.6.4"
  }
 },
 "nbformat": 4,
 "nbformat_minor": 2
}

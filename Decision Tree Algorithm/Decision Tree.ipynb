{
 "cells": [
  {
   "cell_type": "code",
   "execution_count": 108,
   "metadata": {},
   "outputs": [],
   "source": [
    "#training_data=[\n",
    "#    ['Green',3,'Apple'],\n",
    "#    ['Yellow',3,'Apple'],\n",
    "#    ['Red',1,'Grape'],\n",
    "#    ['Red',1,'Grape'],\n",
    "#    ['Yellow',3,'Lemon']\n",
    "#]\n",
    "\n",
    "training_data=[['Sunny','Hot','High','Weak','No'],\n",
    "['Sunny','Hot','High','Strong','No'],\n",
    "['Overcast','Hot','High','Weak','Yes'],\n",
    "['Rain','Mild','High','Weak','Yes'],\n",
    "['Rain','Cool','Normal','Weak','Yes'],\n",
    "['Rain','Cool','Normal','Strong','No'],\n",
    "['Overcast','Cool','Normal','Strong','Yes'],\n",
    "['Sunny','Mild','High','Weak','No'],\n",
    "['Sunny','Cool','Normal','Weak','Yes'],\n",
    "['Rain','Mild','Normal','Weak','Yes'],\n",
    "['Sunny','Mild','Normal','Strong','Yes'],\n",
    "['Overcast','Mild','High','Strong','Yes'],\n",
    "['Overcast','Hot','Normal','Weak','Yes'],\n",
    "['Rain','Mild','High','Strong','No'],]"
   ]
  },
  {
   "cell_type": "code",
   "execution_count": 109,
   "metadata": {},
   "outputs": [],
   "source": [
    "#header=[\"Color\",\"Diameter\",\"Label\"]\n",
    "\n",
    "header=[\"outlook\",\"temp\",\"humidity\",\"wind\",\"play\"]"
   ]
  },
  {
   "cell_type": "code",
   "execution_count": 110,
   "metadata": {},
   "outputs": [],
   "source": [
    "def unique_vals(Data,col):\n",
    "    return set([row[col] for row in Data])"
   ]
  },
  {
   "cell_type": "code",
   "execution_count": 111,
   "metadata": {},
   "outputs": [
    {
     "data": {
      "text/plain": [
       "{'Cool', 'Hot', 'Mild'}"
      ]
     },
     "execution_count": 111,
     "metadata": {},
     "output_type": "execute_result"
    }
   ],
   "source": [
    "unique_vals(training_data, 1)"
   ]
  },
  {
   "cell_type": "code",
   "execution_count": 112,
   "metadata": {},
   "outputs": [
    {
     "data": {
      "text/plain": [
       "{'Overcast', 'Rain', 'Sunny'}"
      ]
     },
     "execution_count": 112,
     "metadata": {},
     "output_type": "execute_result"
    }
   ],
   "source": [
    "unique_vals(training_data, 0)"
   ]
  },
  {
   "cell_type": "code",
   "execution_count": 113,
   "metadata": {},
   "outputs": [],
   "source": [
    "def class_counts(Data):\n",
    "    counts={}\n",
    "    for row in Data:\n",
    "        label=row[-1]\n",
    "        if label not in counts:\n",
    "            counts[label]=0\n",
    "        counts[label]+=1\n",
    "    return counts"
   ]
  },
  {
   "cell_type": "code",
   "execution_count": 114,
   "metadata": {},
   "outputs": [
    {
     "data": {
      "text/plain": [
       "{'No': 5, 'Yes': 9}"
      ]
     },
     "execution_count": 114,
     "metadata": {},
     "output_type": "execute_result"
    }
   ],
   "source": [
    "class_counts(training_data)"
   ]
  },
  {
   "cell_type": "code",
   "execution_count": 115,
   "metadata": {},
   "outputs": [],
   "source": [
    "def is_numeric(value):\n",
    "    return isinstance(value,int) or isinstance(value, float)"
   ]
  },
  {
   "cell_type": "code",
   "execution_count": 116,
   "metadata": {},
   "outputs": [
    {
     "data": {
      "text/plain": [
       "True"
      ]
     },
     "execution_count": 116,
     "metadata": {},
     "output_type": "execute_result"
    }
   ],
   "source": [
    "is_numeric(5)"
   ]
  },
  {
   "cell_type": "code",
   "execution_count": 117,
   "metadata": {},
   "outputs": [],
   "source": [
    "class Question:\n",
    "    def __init__(self,column,value):\n",
    "        self.column=column\n",
    "        self.value=value\n",
    "    def match(self,example):\n",
    "        val=example[self.column]\n",
    "        if is_numeric(val):\n",
    "            #return val>=self.value\n",
    "            return val==self.value\n",
    "        else:\n",
    "            return val==self.value\n",
    "    def __repr__(self):\n",
    "        condition=\"==\"\n",
    "        if is_numeric(self.value):\n",
    "            condition=\">=\"\n",
    "        return \"Is %s %s %s?\"% (header[self.column],condition, str(self.value))"
   ]
  },
  {
   "cell_type": "code",
   "execution_count": 141,
   "metadata": {},
   "outputs": [
    {
     "data": {
      "text/plain": [
       "Is outlook == Sunny?"
      ]
     },
     "execution_count": 141,
     "metadata": {},
     "output_type": "execute_result"
    }
   ],
   "source": [
    "Question(0,'Sunny')"
   ]
  },
  {
   "cell_type": "code",
   "execution_count": 142,
   "metadata": {},
   "outputs": [
    {
     "data": {
      "text/plain": [
       "Is temp == HOT?"
      ]
     },
     "execution_count": 142,
     "metadata": {},
     "output_type": "execute_result"
    }
   ],
   "source": [
    "q=Question(1,'HOT')\n",
    "q"
   ]
  },
  {
   "cell_type": "code",
   "execution_count": 143,
   "metadata": {},
   "outputs": [
    {
     "data": {
      "text/plain": [
       "False"
      ]
     },
     "execution_count": 143,
     "metadata": {},
     "output_type": "execute_result"
    }
   ],
   "source": [
    "q.match(training_data[2])"
   ]
  },
  {
   "cell_type": "code",
   "execution_count": 144,
   "metadata": {},
   "outputs": [],
   "source": [
    "def partition(rows,question):\n",
    "    true_rows,false_rows=[],[]\n",
    "    for row in rows:\n",
    "        if question.match(row):\n",
    "            true_rows.append(row)\n",
    "        else:\n",
    "            false_rows.append(row)\n",
    "    return true_rows,false_rows"
   ]
  },
  {
   "cell_type": "code",
   "execution_count": 145,
   "metadata": {},
   "outputs": [],
   "source": [
    "true_rows,false_rows=partition(training_data,Question(1,'Hot'))"
   ]
  },
  {
   "cell_type": "code",
   "execution_count": 146,
   "metadata": {},
   "outputs": [
    {
     "data": {
      "text/plain": [
       "[['Sunny', 'Hot', 'High', 'Weak', 'No'],\n",
       " ['Sunny', 'Hot', 'High', 'Strong', 'No'],\n",
       " ['Overcast', 'Hot', 'High', 'Weak', 'Yes'],\n",
       " ['Overcast', 'Hot', 'Normal', 'Weak', 'Yes']]"
      ]
     },
     "execution_count": 146,
     "metadata": {},
     "output_type": "execute_result"
    }
   ],
   "source": [
    "true_rows"
   ]
  },
  {
   "cell_type": "code",
   "execution_count": 147,
   "metadata": {},
   "outputs": [
    {
     "data": {
      "text/plain": [
       "[['Rain', 'Mild', 'High', 'Weak', 'Yes'],\n",
       " ['Rain', 'Cool', 'Normal', 'Weak', 'Yes'],\n",
       " ['Rain', 'Cool', 'Normal', 'Strong', 'No'],\n",
       " ['Overcast', 'Cool', 'Normal', 'Strong', 'Yes'],\n",
       " ['Sunny', 'Mild', 'High', 'Weak', 'No'],\n",
       " ['Sunny', 'Cool', 'Normal', 'Weak', 'Yes'],\n",
       " ['Rain', 'Mild', 'Normal', 'Weak', 'Yes'],\n",
       " ['Sunny', 'Mild', 'Normal', 'Strong', 'Yes'],\n",
       " ['Overcast', 'Mild', 'High', 'Strong', 'Yes'],\n",
       " ['Rain', 'Mild', 'High', 'Strong', 'No']]"
      ]
     },
     "execution_count": 147,
     "metadata": {},
     "output_type": "execute_result"
    }
   ],
   "source": [
    "false_rows"
   ]
  },
  {
   "cell_type": "code",
   "execution_count": 148,
   "metadata": {},
   "outputs": [],
   "source": [
    "def gini(rows):\n",
    "    counts=class_counts(rows)\n",
    "    impurity=1\n",
    "    for lbl in counts:\n",
    "        prob_of_lbl=counts[lbl]/float(len(rows))\n",
    "        impurity-=prob_of_lbl**2\n",
    "    return impurity"
   ]
  },
  {
   "cell_type": "code",
   "execution_count": 149,
   "metadata": {},
   "outputs": [
    {
     "data": {
      "text/plain": [
       "0.5"
      ]
     },
     "execution_count": 149,
     "metadata": {},
     "output_type": "execute_result"
    }
   ],
   "source": [
    "x=[['apple'],['apple'],['grapes'],['grapes']]\n",
    "gini(x)"
   ]
  },
  {
   "cell_type": "code",
   "execution_count": 150,
   "metadata": {},
   "outputs": [
    {
     "data": {
      "text/plain": [
       "0.4591836734693877"
      ]
     },
     "execution_count": 150,
     "metadata": {},
     "output_type": "execute_result"
    }
   ],
   "source": [
    "gini(training_data)"
   ]
  },
  {
   "cell_type": "code",
   "execution_count": 151,
   "metadata": {},
   "outputs": [],
   "source": [
    "def info_gain(left,right,current_uncertainity):\n",
    "    p=float(len(left))/(len(left)+len(right))\n",
    "    q=float(len(right))/(len(left)+len(right))\n",
    "    return current_uncertainity-p*gini(left)-q*gini(right)"
   ]
  },
  {
   "cell_type": "code",
   "execution_count": 155,
   "metadata": {},
   "outputs": [],
   "source": [
    "true_rows,false_rows=partition(training_data,Question(1,'Hot'))"
   ]
  },
  {
   "cell_type": "code",
   "execution_count": 156,
   "metadata": {},
   "outputs": [
    {
     "data": {
      "text/plain": [
       "[['Sunny', 'Hot', 'High', 'Weak', 'No'],\n",
       " ['Sunny', 'Hot', 'High', 'Strong', 'No'],\n",
       " ['Overcast', 'Hot', 'High', 'Weak', 'Yes'],\n",
       " ['Overcast', 'Hot', 'Normal', 'Weak', 'Yes']]"
      ]
     },
     "execution_count": 156,
     "metadata": {},
     "output_type": "execute_result"
    }
   ],
   "source": [
    "true_rows"
   ]
  },
  {
   "cell_type": "code",
   "execution_count": 157,
   "metadata": {},
   "outputs": [
    {
     "data": {
      "text/plain": [
       "[['Rain', 'Mild', 'High', 'Weak', 'Yes'],\n",
       " ['Rain', 'Cool', 'Normal', 'Weak', 'Yes'],\n",
       " ['Rain', 'Cool', 'Normal', 'Strong', 'No'],\n",
       " ['Overcast', 'Cool', 'Normal', 'Strong', 'Yes'],\n",
       " ['Sunny', 'Mild', 'High', 'Weak', 'No'],\n",
       " ['Sunny', 'Cool', 'Normal', 'Weak', 'Yes'],\n",
       " ['Rain', 'Mild', 'Normal', 'Weak', 'Yes'],\n",
       " ['Sunny', 'Mild', 'Normal', 'Strong', 'Yes'],\n",
       " ['Overcast', 'Mild', 'High', 'Strong', 'Yes'],\n",
       " ['Rain', 'Mild', 'High', 'Strong', 'No']]"
      ]
     },
     "execution_count": 157,
     "metadata": {},
     "output_type": "execute_result"
    }
   ],
   "source": [
    "false_rows"
   ]
  },
  {
   "cell_type": "code",
   "execution_count": 158,
   "metadata": {},
   "outputs": [
    {
     "data": {
      "text/plain": [
       "0.19614285714285712"
      ]
     },
     "execution_count": 158,
     "metadata": {},
     "output_type": "execute_result"
    }
   ],
   "source": [
    "info_gain(true_rows,false_rows,0.639)"
   ]
  },
  {
   "cell_type": "code",
   "execution_count": 159,
   "metadata": {},
   "outputs": [],
   "source": [
    "def find_best_split(rows):\n",
    "    best_gain=0\n",
    "    best_question=None\n",
    "    current_uncertainity=gini(rows)\n",
    "    n_features=len(rows[0])-1 #no of column\n",
    "    for col in range(n_features): #for each feature\n",
    "        values=set([row[col]for row in rows])#unique values in the dataset\n",
    "        for val in values: #for each value\n",
    "            question=Question(col,val)\n",
    "            true_rows,false_rows=partition(rows,question)\n",
    "            if len(true_rows)==0 or len(false_rows)==0:\n",
    "                continue\n",
    "            gain=info_gain(true_rows,false_rows,current_uncertainity)\n",
    "            if gain>=best_gain:\n",
    "                best_gain,best_question=gain,question\n",
    "    return best_gain,best_question"
   ]
  },
  {
   "cell_type": "code",
   "execution_count": 160,
   "metadata": {},
   "outputs": [
    {
     "name": "stdout",
     "output_type": "stream",
     "text": [
      "Is outlook == Overcast?\n",
      "0.10204081632653056\n"
     ]
    }
   ],
   "source": [
    "best_gain,best_question=find_best_split(training_data)\n",
    "print(best_question)\n",
    "print(best_gain)"
   ]
  },
  {
   "cell_type": "code",
   "execution_count": 161,
   "metadata": {},
   "outputs": [],
   "source": [
    "class Leaf:\n",
    "    def __init__(self,rows):\n",
    "        self.predictions=class_counts(rows)"
   ]
  },
  {
   "cell_type": "code",
   "execution_count": 162,
   "metadata": {},
   "outputs": [],
   "source": [
    "class Decision_Node:\n",
    "    def __init__(self,question,true_branch,false_branch):\n",
    "        self.question=question\n",
    "        self.true_branch=true_branch\n",
    "        self.false_branch=false_branch"
   ]
  },
  {
   "cell_type": "code",
   "execution_count": 163,
   "metadata": {},
   "outputs": [],
   "source": [
    "def build_tree(rows):\n",
    "    gain,question=find_best_split(rows)\n",
    "    if gain==0:\n",
    "        return Leaf(rows)\n",
    "    true_rows,false_rows=partition(rows,question)\n",
    "    true_branch=build_tree(true_rows)\n",
    "    false_branch=build_tree(false_rows)\n",
    "    return Decision_Node(question,true_branch,false_branch)"
   ]
  },
  {
   "cell_type": "code",
   "execution_count": 164,
   "metadata": {},
   "outputs": [
    {
     "name": "stdout",
     "output_type": "stream",
     "text": [
      "<__main__.Decision_Node object at 0x0000028A0889EF98>\n"
     ]
    }
   ],
   "source": [
    "my_tree=build_tree(training_data)\n",
    "print(my_tree)"
   ]
  },
  {
   "cell_type": "code",
   "execution_count": 165,
   "metadata": {},
   "outputs": [],
   "source": [
    "def print_tree(node,spacing=\"\"):\n",
    "    if isinstance(node,Leaf):\n",
    "        print(spacing+\"Predict\",node.predictions)\n",
    "        return\n",
    "    #Print the question at this node\n",
    "    print(spacing+str(node.question))\n",
    "    #Call this function recursively on the true branch\n",
    "    print(spacing+\"-->True:\")\n",
    "    print_tree(node.true_branch,spacing+\" \")\n",
    "    #Call this function recursively on the false branch\n",
    "    print(spacing+\"-->False:\")\n",
    "    print_tree(node.false_branch,spacing+\" \")"
   ]
  },
  {
   "cell_type": "code",
   "execution_count": 140,
   "metadata": {},
   "outputs": [
    {
     "name": "stdout",
     "output_type": "stream",
     "text": [
      "Is outlook == Overcast?\n",
      "-->True:\n",
      " Predict {'Yes': 4}\n",
      "-->False:\n",
      " Is humidity == High?\n",
      " -->True:\n",
      "  Is outlook == Rain?\n",
      "  -->True:\n",
      "   Is wind == Weak?\n",
      "   -->True:\n",
      "    Predict {'Yes': 1}\n",
      "   -->False:\n",
      "    Predict {'No': 1}\n",
      "  -->False:\n",
      "   Predict {'No': 3}\n",
      " -->False:\n",
      "  Is wind == Weak?\n",
      "  -->True:\n",
      "   Predict {'Yes': 3}\n",
      "  -->False:\n",
      "   Is temp == Mild?\n",
      "   -->True:\n",
      "    Predict {'Yes': 1}\n",
      "   -->False:\n",
      "    Predict {'No': 1}\n"
     ]
    }
   ],
   "source": [
    "print_tree(my_tree)"
   ]
  },
  {
   "cell_type": "code",
   "execution_count": null,
   "metadata": {},
   "outputs": [],
   "source": []
  }
 ],
 "metadata": {
  "kernelspec": {
   "display_name": "Python 3",
   "language": "python",
   "name": "python3"
  },
  "language_info": {
   "codemirror_mode": {
    "name": "ipython",
    "version": 3
   },
   "file_extension": ".py",
   "mimetype": "text/x-python",
   "name": "python",
   "nbconvert_exporter": "python",
   "pygments_lexer": "ipython3",
   "version": "3.6.4"
  }
 },
 "nbformat": 4,
 "nbformat_minor": 2
}

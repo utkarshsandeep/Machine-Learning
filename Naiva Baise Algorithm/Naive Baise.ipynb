{
 "cells": [
  {
   "cell_type": "code",
   "execution_count": 1,
   "metadata": {},
   "outputs": [],
   "source": [
    "days=[[\"ran\",\"was tired\",\"woke up early\"],\n",
    "      [\"ran\",\"was not tired\",\"didn't wake up early\"],\n",
    "      [\"didn't run\",\"was tired\",\"woke up early\"],\n",
    "      [\"ran\",\"was tired\",\"didn't wake up early\"],\n",
    "      [\"didn't run\",\"was tired\",\"woke up early\"],\n",
    "      [\"ran\",\"was not tired\",\"didn't wake up early\"],\n",
    "      [\"ran\",\"was tired\",\"woke up early\"]]"
   ]
  },
  {
   "cell_type": "code",
   "execution_count": 2,
   "metadata": {},
   "outputs": [],
   "source": [
    "new_day=[\"ran\",\"didn't wake up early\"]"
   ]
  },
  {
   "cell_type": "code",
   "execution_count": 4,
   "metadata": {},
   "outputs": [],
   "source": [
    "prob_tired=len([d for d in days if d[1]==\"was tired\"])/len(days)"
   ]
  },
  {
   "cell_type": "code",
   "execution_count": 5,
   "metadata": {},
   "outputs": [
    {
     "data": {
      "text/plain": [
       "0.7142857142857143"
      ]
     },
     "execution_count": 5,
     "metadata": {},
     "output_type": "execute_result"
    }
   ],
   "source": [
    "prob_tired"
   ]
  },
  {
   "cell_type": "code",
   "execution_count": 7,
   "metadata": {},
   "outputs": [],
   "source": [
    "prob_ran=len([d for d in days if d[0]==\"ran\"])/len(days)"
   ]
  },
  {
   "cell_type": "code",
   "execution_count": 8,
   "metadata": {},
   "outputs": [
    {
     "data": {
      "text/plain": [
       "0.7142857142857143"
      ]
     },
     "execution_count": 8,
     "metadata": {},
     "output_type": "execute_result"
    }
   ],
   "source": [
    "prob_ran"
   ]
  },
  {
   "cell_type": "code",
   "execution_count": 9,
   "metadata": {},
   "outputs": [],
   "source": [
    "prob_ran_given_tired=len([d for d in days if d[0]==\"ran\" and d[1]==\"was tired\"])/len([d for d in days if d[1]==\"was tired\"])"
   ]
  },
  {
   "cell_type": "code",
   "execution_count": 10,
   "metadata": {},
   "outputs": [
    {
     "data": {
      "text/plain": [
       "0.6"
      ]
     },
     "execution_count": 10,
     "metadata": {},
     "output_type": "execute_result"
    }
   ],
   "source": [
    "prob_ran_given_tired"
   ]
  },
  {
   "cell_type": "code",
   "execution_count": 11,
   "metadata": {},
   "outputs": [],
   "source": [
    "prob_tired_given_ran=(prob_ran_given_tired*prob_tired)/prob_ran"
   ]
  },
  {
   "cell_type": "code",
   "execution_count": 12,
   "metadata": {},
   "outputs": [
    {
     "data": {
      "text/plain": [
       "0.6"
      ]
     },
     "execution_count": 12,
     "metadata": {},
     "output_type": "execute_result"
    }
   ],
   "source": [
    "prob_tired_given_ran"
   ]
  },
  {
   "cell_type": "code",
   "execution_count": 20,
   "metadata": {},
   "outputs": [
    {
     "name": "stdout",
     "output_type": "stream",
     "text": [
      "Probability of being tired given that you ran: 0.6\n"
     ]
    }
   ],
   "source": [
    "print(\"Probability of being tired given that you ran:\",format(prob_tired_given_ran))"
   ]
  },
  {
   "cell_type": "code",
   "execution_count": 21,
   "metadata": {},
   "outputs": [],
   "source": [
    "def calc_y_probability(y_label,days):\n",
    "    return len([d for d in days if d[1]==y_label])/len(days)"
   ]
  },
  {
   "cell_type": "code",
   "execution_count": 22,
   "metadata": {},
   "outputs": [
    {
     "data": {
      "text/plain": [
       "0.7142857142857143"
      ]
     },
     "execution_count": 22,
     "metadata": {},
     "output_type": "execute_result"
    }
   ],
   "source": [
    "calc_y_probability(\"was tired\",days)"
   ]
  },
  {
   "cell_type": "code",
   "execution_count": 23,
   "metadata": {},
   "outputs": [
    {
     "data": {
      "text/plain": [
       "0.2857142857142857"
      ]
     },
     "execution_count": 23,
     "metadata": {},
     "output_type": "execute_result"
    }
   ],
   "source": [
    "calc_y_probability(\"was not tired\",days)"
   ]
  },
  {
   "cell_type": "code",
   "execution_count": 26,
   "metadata": {},
   "outputs": [],
   "source": [
    "def calc_ran_probability_given_y(ran_label,y_label,days):\n",
    "    return len([d for d in days if d[1]==y_label and d[0]==ran_label])/len(days)"
   ]
  },
  {
   "cell_type": "code",
   "execution_count": 29,
   "metadata": {},
   "outputs": [],
   "source": [
    "def calc_woke_early_probability_given_y(woke_label,y_label,days):\n",
    "    return len([d for d in days if d[1]==y_label and d[2]==woke_label])/len(days)"
   ]
  },
  {
   "cell_type": "code",
   "execution_count": 27,
   "metadata": {},
   "outputs": [],
   "source": [
    "denominator=len([d for d in days if d[0]==new_day[0] and d[2]==new_day[1]])/len(days)"
   ]
  },
  {
   "cell_type": "code",
   "execution_count": 28,
   "metadata": {},
   "outputs": [
    {
     "data": {
      "text/plain": [
       "0.42857142857142855"
      ]
     },
     "execution_count": 28,
     "metadata": {},
     "output_type": "execute_result"
    }
   ],
   "source": [
    "denominator"
   ]
  },
  {
   "cell_type": "code",
   "execution_count": 30,
   "metadata": {},
   "outputs": [],
   "source": [
    "prob_tired=(calc_y_probability(\"was tired\",days)*calc_ran_probability_given_y(new_day[0],\"was tired\",days)*calc_woke_early_probability_given_y(new_day[1],\"was tired\",days))/denominator"
   ]
  },
  {
   "cell_type": "code",
   "execution_count": 31,
   "metadata": {},
   "outputs": [
    {
     "data": {
      "text/plain": [
       "0.10204081632653061"
      ]
     },
     "execution_count": 31,
     "metadata": {},
     "output_type": "execute_result"
    }
   ],
   "source": [
    "prob_tired"
   ]
  },
  {
   "cell_type": "code",
   "execution_count": 32,
   "metadata": {},
   "outputs": [],
   "source": [
    "prob_not_tired=(calc_y_probability(\"was not tired\",days)*calc_ran_probability_given_y(new_day[0],\"was not tired\",days)*calc_woke_early_probability_given_y(new_day[1],\"was not tired\",days))/denominator"
   ]
  },
  {
   "cell_type": "code",
   "execution_count": 33,
   "metadata": {},
   "outputs": [
    {
     "data": {
      "text/plain": [
       "0.054421768707482984"
      ]
     },
     "execution_count": 33,
     "metadata": {},
     "output_type": "execute_result"
    }
   ],
   "source": [
    "prob_not_tired"
   ]
  },
  {
   "cell_type": "code",
   "execution_count": 34,
   "metadata": {},
   "outputs": [
    {
     "name": "stdout",
     "output_type": "stream",
     "text": [
      "Final Classification for new day: was tired. Tired Probability:0.10204081632653061. Not Tired Probability:0.054421768707482984.\n"
     ]
    }
   ],
   "source": [
    "classification=\"was tired\"\n",
    "if prob_not_tired>prob_tired:\n",
    "    classification=\"was not tired\"\n",
    "print(\"Final Classification for new day: {0}. Tired Probability:{1}. Not Tired Probability:{2}.\".format(classification,prob_tired,prob_not_tired))"
   ]
  },
  {
   "cell_type": "code",
   "execution_count": null,
   "metadata": {},
   "outputs": [],
   "source": []
  }
 ],
 "metadata": {
  "kernelspec": {
   "display_name": "Python 3",
   "language": "python",
   "name": "python3"
  },
  "language_info": {
   "codemirror_mode": {
    "name": "ipython",
    "version": 3
   },
   "file_extension": ".py",
   "mimetype": "text/x-python",
   "name": "python",
   "nbconvert_exporter": "python",
   "pygments_lexer": "ipython3",
   "version": "3.6.4"
  }
 },
 "nbformat": 4,
 "nbformat_minor": 2
}

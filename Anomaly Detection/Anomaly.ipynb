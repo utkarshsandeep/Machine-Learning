{
 "cells": [
  {
   "cell_type": "code",
   "execution_count": 3,
   "metadata": {},
   "outputs": [],
   "source": [
    "import matplotlib.pyplot as plt\n",
    "import numpy as np\n",
    "from numpy import genfromtxt\n",
    "from scipy.stats import multivariate_normal\n",
    "from sklearn.metrics import f1_score"
   ]
  },
  {
   "cell_type": "code",
   "execution_count": 5,
   "metadata": {},
   "outputs": [
    {
     "data": {
      "text/plain": [
       "0.5714285714285715"
      ]
     },
     "execution_count": 5,
     "metadata": {},
     "output_type": "execute_result"
    }
   ],
   "source": [
    "from sklearn.metrics import f1_score\n",
    "y_act=[1,1,0,0,0,1]\n",
    "y_pred=[1,1,0,1,1,0]\n",
    "f1_score(y_act,y_pred)"
   ]
  },
  {
   "cell_type": "code",
   "execution_count": 12,
   "metadata": {},
   "outputs": [
    {
     "name": "stdout",
     "output_type": "stream",
     "text": [
      "Number of datapoints in training set: 307\n",
      "Number of dimensions/features: 2\n",
      "[[13.409 13.763]\n",
      " [14.196 15.853]\n",
      " [14.915 16.174]\n",
      " [13.577 14.043]]\n"
     ]
    },
    {
     "data": {
      "image/png": "[encoded data removed]",
      "text/plain": [
       "<matplotlib.figure.Figure at 0x175f6ca4f60>"
      ]
     },
     "metadata": {},
     "output_type": "display_data"
    }
   ],
   "source": [
    "#tr_data=read_dataset('tr_server_data.csv')\n",
    "#cv_data=read_dataset('cv_server_data.csv')\n",
    "#get_data=read_dataset('get_server_data.csv')\n",
    "import csv\n",
    "import numpy\n",
    "filename='tr_server_data.csv'\n",
    "a2='cv_server_data.csv'\n",
    "a3='gt_server_data.csv'\n",
    "raw_data=open(filename,'rt')\n",
    "reader=csv.reader(raw_data,delimiter=',',quoting=csv.QUOTE_NONE)\n",
    "x=list(reader)\n",
    "tr_data=numpy.array(x).astype('float')\n",
    "raw_data=open(a2,'rt')\n",
    "reader=csv.reader(raw_data,delimiter=',',quoting=csv.QUOTE_NONE)\n",
    "x=list(reader)\n",
    "cv_data=numpy.array(x).astype('float')\n",
    "raw_data=open(a3,'rt')\n",
    "reader=csv.reader(raw_data,delimiter=',',quoting=csv.QUOTE_NONE)\n",
    "x=list(reader)\n",
    "gt_data=numpy.array(x).astype('float')\n",
    "n_training_samples=tr_data.shape[0]\n",
    "n_dim=tr_data.shape[1]\n",
    "print('Number of datapoints in training set: %d'%n_training_samples)\n",
    "print('Number of dimensions/features: %d'%n_dim)\n",
    "print(tr_data[1:5,:])\n",
    "plt.xlabel('Latency(ms)')\n",
    "plt.ylabel('Throughput(mb/s)')\n",
    "plt.plot(tr_data[:,0],tr_data[:,1],'bx')\n",
    "plt.show()"
   ]
  },
  {
   "cell_type": "code",
   "execution_count": 15,
   "metadata": {},
   "outputs": [],
   "source": [
    "#def read_dataset(filePath,delimiter=','):\n",
    "   #return genfromtxt(filePath,delimiter=delimiter)\n",
    "def estimateGuassian(dataset):\n",
    "    mu=np.mean(dataset,axis=0)\n",
    "    sigma=np.cov(dataset.T)\n",
    "    return mu,sigma\n",
    "def multivariateGaussian(dataset,mu,sigma):\n",
    "    p=multivariate_normal(mean=mu,cov=sigma)\n",
    "    return p.pdf(dataset)\n",
    "def selectThresholdByCV(probs,gt):\n",
    "    best_epsilon=0\n",
    "    best_f1=0\n",
    "    f=0\n",
    "    stepsize=(max(probs)-min(probs))/1000\n",
    "    epsilons=np.arange(min(probs),max(probs),stepsize)\n",
    "    for epsilon in np.nditer(epsilons):\n",
    "        predictions=(probs<epsilon)\n",
    "        print(\"predictions\",predictions)\n",
    "        f=f1_score(gt,predictions)\n",
    "        print(f)\n",
    "        #print(\"-----\")\n",
    "        if f>best_f1:\n",
    "            #print('-------')\n",
    "            best_f1=f\n",
    "        print(predictions)\n",
    "    return best_f1,best_epsilon"
   ]
  },
  {
   "cell_type": "code",
   "execution_count": null,
   "metadata": {},
   "outputs": [],
   "source": [
    "mu,sigma=estimateGaussian(tr_data)\n"
   ]
  },
  {
   "cell_type": "code",
   "execution_count": null,
   "metadata": {},
   "outputs": [],
   "source": [
    "#selecting outlier datapoints\n",
    "outliers=np.asarray(np.where(p<np))"
   ]
  }
 ],
 "metadata": {
  "kernelspec": {
   "display_name": "Python 3",
   "language": "python",
   "name": "python3"
  },
  "language_info": {
   "codemirror_mode": {
    "name": "ipython",
    "version": 3
   },
   "file_extension": ".py",
   "mimetype": "text/x-python",
   "name": "python",
   "nbconvert_exporter": "python",
   "pygments_lexer": "ipython3",
   "version": "3.6.4"
  }
 },
 "nbformat": 4,
 "nbformat_minor": 2
}

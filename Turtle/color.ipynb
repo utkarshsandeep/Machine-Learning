{
 "cells": [
  {
   "cell_type": "code",
   "execution_count": 1,
   "metadata": {},
   "outputs": [],
   "source": [
    "from turtle import Turtle,Screen,colormode"
   ]
  },
  {
   "cell_type": "code",
   "execution_count": 2,
   "metadata": {},
   "outputs": [],
   "source": [
    "rgb={'r':200,'g':100,'b':100}\n",
    "y_offset_position=0"
   ]
  },
  {
   "cell_type": "code",
   "execution_count": 3,
   "metadata": {},
   "outputs": [],
   "source": [
    "Turtle_size=20"
   ]
  },
  {
   "cell_type": "code",
   "execution_count": 4,
   "metadata": {},
   "outputs": [],
   "source": [
    "screen=Screen()\n",
    "turt=Turtle()\n",
    "colormode(255)\n",
    "for color in rgb.keys():\n",
    "    turt.penup()\n",
    "    turt.goto(Turtle_size/2-screen.window_width()/2,screen.window_height()/2-Turtle_size+y_offset_position)\n",
    "    turt.pendown()\n",
    "    screen.tracer(0,0)\n",
    "    rgb[color]=0\n",
    "    for x in range(256):\n",
    "        turt.right(90)\n",
    "        turt.forward(100)\n",
    "        turt.left(90)\n",
    "        turt.forward(1)\n",
    "        turt.left(90)\n",
    "        turt.forward(100)\n",
    "        turt.right(90)\n",
    "        turt.forward(1)\n",
    "        rgb[color]=x\n",
    "        turt.pencolor(rgb['r'],rgb['g'],rgb['b'])\n",
    "    rgb[color]=100\n",
    "    y_offset_position-=120\n",
    "    screen.update()"
   ]
  },
  {
   "cell_type": "code",
   "execution_count": null,
   "metadata": {},
   "outputs": [],
   "source": []
  }
 ],
 "metadata": {
  "kernelspec": {
   "display_name": "Python 3",
   "language": "python",
   "name": "python3"
  },
  "language_info": {
   "codemirror_mode": {
    "name": "ipython",
    "version": 3
   },
   "file_extension": ".py",
   "mimetype": "text/x-python",
   "name": "python",
   "nbconvert_exporter": "python",
   "pygments_lexer": "ipython3",
   "version": "3.7.1"
  }
 },
 "nbformat": 4,
 "nbformat_minor": 2
}

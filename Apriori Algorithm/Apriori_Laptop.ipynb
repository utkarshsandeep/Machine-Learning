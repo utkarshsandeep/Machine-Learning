{
 "cells": [
  {
   "cell_type": "code",
   "execution_count": 1,
   "metadata": {},
   "outputs": [],
   "source": [
    "def load_dataset():\n",
    "    \"Load the sample dataset.\"\n",
    "    return [['laptop', 'earphones','laptop bag', 'mouse', 'pendrive'],\n",
    "            ['mobile', 'cover', 'earphones', 'pendrive' ],\n",
    "            ['laptop', 'laptop bag', 'cover', 'pendrive', 'screenguard'],\n",
    "            ['earphones', 'mouse', 'pendrive', 'cover', 'screenguard'],\n",
    "            ['laptop bag', 'cover', 'pendrive', 'laptop', 'screenguard'],\n",
    "            ['laptop','laptop bag','mobile','earphones','pendrive'],\n",
    "            ['laptop','laptop bag','mouse','earphones','pendrive'],\n",
    "            ['mobile','laptop bag','laptop','laptop bag'],\n",
    "            ['laptop','laptop bag','earphones', 'screenguard'],\n",
    "            ['laptop','laptop bag','earphones','pendrive'],\n",
    "            ['earphones','laptop','laptop bag','cover','mouse'],\n",
    "            ['laptop','laptop bag','mobile','pendrive'],\n",
    "            ['pendrive','mobile','cover','laptop','mouse'],\n",
    "            ['laptop','laptop bag','mouse','pendrive','earphones'],\n",
    "            ['earphones','laptop','mobile','laptop bag', 'screenguard']]"
   ]
  },
  {
   "cell_type": "code",
   "execution_count": 2,
   "metadata": {},
   "outputs": [],
   "source": [
    "from numpy import *"
   ]
  },
  {
   "cell_type": "code",
   "execution_count": 3,
   "metadata": {},
   "outputs": [],
   "source": [
    "d=load_dataset()"
   ]
  },
  {
   "cell_type": "code",
   "execution_count": 4,
   "metadata": {},
   "outputs": [
    {
     "data": {
      "text/plain": [
       "[['laptop', 'earphones', 'laptop bag', 'mouse', 'pendrive'],\n",
       " ['mobile', 'cover', 'earphones', 'pendrive'],\n",
       " ['laptop', 'laptop bag', 'cover', 'pendrive', 'screenguard'],\n",
       " ['earphones', 'mouse', 'pendrive', 'cover', 'screenguard'],\n",
       " ['laptop bag', 'cover', 'pendrive', 'laptop', 'screenguard'],\n",
       " ['laptop', 'laptop bag', 'mobile', 'earphones', 'pendrive'],\n",
       " ['laptop', 'laptop bag', 'mouse', 'earphones', 'pendrive'],\n",
       " ['mobile', 'laptop bag', 'laptop', 'laptop bag'],\n",
       " ['laptop', 'laptop bag', 'earphones', 'screenguard'],\n",
       " ['laptop', 'laptop bag', 'earphones', 'pendrive'],\n",
       " ['earphones', 'laptop', 'laptop bag', 'cover', 'mouse'],\n",
       " ['laptop', 'laptop bag', 'mobile', 'pendrive'],\n",
       " ['pendrive', 'mobile', 'cover', 'laptop', 'mouse'],\n",
       " ['laptop', 'laptop bag', 'mouse', 'pendrive', 'earphones'],\n",
       " ['earphones', 'laptop', 'mobile', 'laptop bag', 'screenguard']]"
      ]
     },
     "execution_count": 4,
     "metadata": {},
     "output_type": "execute_result"
    }
   ],
   "source": [
    "d"
   ]
  },
  {
   "cell_type": "code",
   "execution_count": 5,
   "metadata": {},
   "outputs": [],
   "source": [
    "def create_C1(dataset):\n",
    "    \"Create the list of candidate item sets of size one.\"\n",
    "    c1=[]\n",
    "    for transaction in dataset:\n",
    "        for item in transaction:\n",
    "            if not [item] in c1:\n",
    "                c1.append([item])\n",
    "    c1.sort()\n",
    "    return list(map(frozenset,c1))"
   ]
  },
  {
   "cell_type": "code",
   "execution_count": 6,
   "metadata": {},
   "outputs": [
    {
     "data": {
      "text/plain": [
       "[frozenset({'cover'}),\n",
       " frozenset({'earphones'}),\n",
       " frozenset({'laptop'}),\n",
       " frozenset({'laptop bag'}),\n",
       " frozenset({'mobile'}),\n",
       " frozenset({'mouse'}),\n",
       " frozenset({'pendrive'}),\n",
       " frozenset({'screenguard'})]"
      ]
     },
     "execution_count": 6,
     "metadata": {},
     "output_type": "execute_result"
    }
   ],
   "source": [
    "X=load_dataset()\n",
    "create_C1(X)"
   ]
  },
  {
   "cell_type": "code",
   "execution_count": 7,
   "metadata": {},
   "outputs": [],
   "source": [
    "def scanD(dataset,candidates,min_support):\n",
    "    \"Returns all candidates that meets a minimum support level\"\n",
    "    sscnt={}\n",
    "    for tid in dataset:\n",
    "        for can in candidates:\n",
    "            if can.issubset(tid):\n",
    "                sscnt.setdefault(can,0)\n",
    "                sscnt[can]+=1\n",
    "    #print(\"----------\",sscnt)\n",
    "    num_items=float(len(dataset))\n",
    "    retlist=[]\n",
    "    support_data={}\n",
    "    for key in sscnt:\n",
    "        support=sscnt[key]/num_items\n",
    "        if support>=min_support:\n",
    "            retlist.insert(0,key)\n",
    "        support_data[key]=support\n",
    "    return retlist,support_data"
   ]
  },
  {
   "cell_type": "code",
   "execution_count": 8,
   "metadata": {},
   "outputs": [
    {
     "data": {
      "text/plain": [
       "[['laptop', 'earphones', 'laptop bag', 'mouse', 'pendrive'],\n",
       " ['mobile', 'cover', 'earphones', 'pendrive'],\n",
       " ['laptop', 'laptop bag', 'cover', 'pendrive', 'screenguard'],\n",
       " ['earphones', 'mouse', 'pendrive', 'cover', 'screenguard'],\n",
       " ['laptop bag', 'cover', 'pendrive', 'laptop', 'screenguard'],\n",
       " ['laptop', 'laptop bag', 'mobile', 'earphones', 'pendrive'],\n",
       " ['laptop', 'laptop bag', 'mouse', 'earphones', 'pendrive'],\n",
       " ['mobile', 'laptop bag', 'laptop', 'laptop bag'],\n",
       " ['laptop', 'laptop bag', 'earphones', 'screenguard'],\n",
       " ['laptop', 'laptop bag', 'earphones', 'pendrive'],\n",
       " ['earphones', 'laptop', 'laptop bag', 'cover', 'mouse'],\n",
       " ['laptop', 'laptop bag', 'mobile', 'pendrive'],\n",
       " ['pendrive', 'mobile', 'cover', 'laptop', 'mouse'],\n",
       " ['laptop', 'laptop bag', 'mouse', 'pendrive', 'earphones'],\n",
       " ['earphones', 'laptop', 'mobile', 'laptop bag', 'screenguard']]"
      ]
     },
     "execution_count": 8,
     "metadata": {},
     "output_type": "execute_result"
    }
   ],
   "source": [
    "dataset=load_dataset()\n",
    "dataset"
   ]
  },
  {
   "cell_type": "code",
   "execution_count": 9,
   "metadata": {},
   "outputs": [
    {
     "data": {
      "text/plain": [
       "[frozenset({'cover'}),\n",
       " frozenset({'earphones'}),\n",
       " frozenset({'laptop'}),\n",
       " frozenset({'laptop bag'}),\n",
       " frozenset({'mobile'}),\n",
       " frozenset({'mouse'}),\n",
       " frozenset({'pendrive'}),\n",
       " frozenset({'screenguard'})]"
      ]
     },
     "execution_count": 9,
     "metadata": {},
     "output_type": "execute_result"
    }
   ],
   "source": [
    "c1=create_C1(dataset)\n",
    "c1"
   ]
  },
  {
   "cell_type": "code",
   "execution_count": 10,
   "metadata": {},
   "outputs": [
    {
     "data": {
      "text/plain": [
       "{frozenset({'earphones'}): 0.6666666666666666,\n",
       " frozenset({'laptop'}): 0.8666666666666667,\n",
       " frozenset({'laptop bag'}): 0.8,\n",
       " frozenset({'mouse'}): 0.4,\n",
       " frozenset({'pendrive'}): 0.7333333333333333,\n",
       " frozenset({'cover'}): 0.4,\n",
       " frozenset({'mobile'}): 0.4,\n",
       " frozenset({'screenguard'}): 0.3333333333333333}"
      ]
     },
     "execution_count": 10,
     "metadata": {},
     "output_type": "execute_result"
    }
   ],
   "source": [
    "L1,SD=scanD(dataset,c1,0.5)\n",
    "L1\n",
    "SD"
   ]
  },
  {
   "cell_type": "code",
   "execution_count": 11,
   "metadata": {},
   "outputs": [
    {
     "data": {
      "text/plain": [
       "[frozenset({'pendrive'}),\n",
       " frozenset({'laptop bag'}),\n",
       " frozenset({'laptop'}),\n",
       " frozenset({'earphones'})]"
      ]
     },
     "execution_count": 11,
     "metadata": {},
     "output_type": "execute_result"
    }
   ],
   "source": [
    "L1"
   ]
  },
  {
   "cell_type": "code",
   "execution_count": 12,
   "metadata": {},
   "outputs": [
    {
     "data": {
      "text/plain": [
       "{frozenset({'earphones'}): 0.6666666666666666,\n",
       " frozenset({'laptop'}): 0.8666666666666667,\n",
       " frozenset({'laptop bag'}): 0.8,\n",
       " frozenset({'mouse'}): 0.4,\n",
       " frozenset({'pendrive'}): 0.7333333333333333,\n",
       " frozenset({'cover'}): 0.4,\n",
       " frozenset({'mobile'}): 0.4,\n",
       " frozenset({'screenguard'}): 0.3333333333333333}"
      ]
     },
     "execution_count": 12,
     "metadata": {},
     "output_type": "execute_result"
    }
   ],
   "source": [
    "SD"
   ]
  },
  {
   "cell_type": "code",
   "execution_count": 13,
   "metadata": {},
   "outputs": [],
   "source": [
    "def aprioriGen(Lk,k):#creates CK\n",
    "    retList=[]\n",
    "    lenLk=len(Lk)\n",
    "    #print(\"lenoflk\",list(Lk[3])[:0])\n",
    "    for i in range(lenLk):\n",
    "        for j in range(i+1,lenLk):\n",
    "            L1=list(Lk[i])[:k-2]\n",
    "            L2=list(Lk[j])[:k-2]\n",
    "            L1.sort()\n",
    "            L2.sort()\n",
    "            if L1==L2: #if first k-2 elements are equal\n",
    "                retList.append(Lk[i]|Lk[j])\n",
    "                #print(retList)\n",
    "    return retList"
   ]
  },
  {
   "cell_type": "code",
   "execution_count": 14,
   "metadata": {},
   "outputs": [
    {
     "name": "stdout",
     "output_type": "stream",
     "text": [
      "+++++ [frozenset({'pendrive'}), frozenset({'laptop bag'}), frozenset({'laptop'}), frozenset({'earphones'})]\n",
      "[frozenset({'pendrive', 'laptop bag'}), frozenset({'pendrive', 'laptop'}), frozenset({'earphones', 'pendrive'}), frozenset({'laptop', 'laptop bag'}), frozenset({'earphones', 'laptop bag'}), frozenset({'earphones', 'laptop'})]\n"
     ]
    }
   ],
   "source": [
    "L1,supportData=scanD(dataset,c1,0.5)\n",
    "L=[L1]\n",
    "k=2\n",
    "print(\"+++++\",L[0])\n",
    "Ck=aprioriGen(L[k-2],k)\n",
    "print(Ck)"
   ]
  },
  {
   "cell_type": "code",
   "execution_count": 15,
   "metadata": {},
   "outputs": [],
   "source": [
    "def apriori(dataset,minSupport=0.40):\n",
    "    C1=create_C1(dataset)\n",
    "    D=list(map(set,dataset))#creating set\n",
    "    L1,supportData=scanD(D,C1,minSupport)\n",
    "    L=[L1]\n",
    "    k=2\n",
    "    while(len(L[k-2])>0):\n",
    "        Ck=aprioriGen(L[k-2],k)\n",
    "        Lk,supK=scanD(D,Ck,minSupport)#scan DB to get\n",
    "        supportData.update(supK)\n",
    "        L.append(Lk)\n",
    "        k+=1\n",
    "    return L,supportData"
   ]
  },
  {
   "cell_type": "code",
   "execution_count": 16,
   "metadata": {},
   "outputs": [],
   "source": [
    "L,SD=apriori(load_dataset())"
   ]
  },
  {
   "cell_type": "code",
   "execution_count": 17,
   "metadata": {},
   "outputs": [
    {
     "data": {
      "text/plain": [
       "[[frozenset({'mobile'}),\n",
       "  frozenset({'cover'}),\n",
       "  frozenset({'pendrive'}),\n",
       "  frozenset({'mouse'}),\n",
       "  frozenset({'laptop bag'}),\n",
       "  frozenset({'laptop'}),\n",
       "  frozenset({'earphones'})],\n",
       " [frozenset({'earphones', 'laptop'}),\n",
       "  frozenset({'earphones', 'laptop bag'}),\n",
       "  frozenset({'laptop', 'laptop bag'}),\n",
       "  frozenset({'earphones', 'pendrive'}),\n",
       "  frozenset({'laptop', 'pendrive'}),\n",
       "  frozenset({'laptop bag', 'pendrive'})],\n",
       " [frozenset({'laptop', 'laptop bag', 'pendrive'}),\n",
       "  frozenset({'earphones', 'laptop', 'laptop bag'})],\n",
       " []]"
      ]
     },
     "execution_count": 17,
     "metadata": {},
     "output_type": "execute_result"
    }
   ],
   "source": [
    "L"
   ]
  },
  {
   "cell_type": "code",
   "execution_count": 18,
   "metadata": {},
   "outputs": [
    {
     "data": {
      "text/plain": [
       "{frozenset({'earphones'}): 0.6666666666666666,\n",
       " frozenset({'laptop'}): 0.8666666666666667,\n",
       " frozenset({'laptop bag'}): 0.8,\n",
       " frozenset({'mouse'}): 0.4,\n",
       " frozenset({'pendrive'}): 0.7333333333333333,\n",
       " frozenset({'cover'}): 0.4,\n",
       " frozenset({'mobile'}): 0.4,\n",
       " frozenset({'screenguard'}): 0.3333333333333333,\n",
       " frozenset({'mouse', 'pendrive'}): 0.3333333333333333,\n",
       " frozenset({'laptop bag', 'pendrive'}): 0.5333333333333333,\n",
       " frozenset({'laptop', 'pendrive'}): 0.6,\n",
       " frozenset({'earphones', 'pendrive'}): 0.4666666666666667,\n",
       " frozenset({'laptop bag', 'mouse'}): 0.26666666666666666,\n",
       " frozenset({'laptop', 'mouse'}): 0.3333333333333333,\n",
       " frozenset({'earphones', 'mouse'}): 0.3333333333333333,\n",
       " frozenset({'laptop', 'laptop bag'}): 0.8,\n",
       " frozenset({'earphones', 'laptop bag'}): 0.5333333333333333,\n",
       " frozenset({'earphones', 'laptop'}): 0.5333333333333333,\n",
       " frozenset({'cover', 'mobile'}): 0.13333333333333333,\n",
       " frozenset({'mobile', 'pendrive'}): 0.26666666666666666,\n",
       " frozenset({'earphones', 'mobile'}): 0.2,\n",
       " frozenset({'cover', 'pendrive'}): 0.3333333333333333,\n",
       " frozenset({'cover', 'earphones'}): 0.2,\n",
       " frozenset({'cover', 'laptop bag'}): 0.2,\n",
       " frozenset({'cover', 'laptop'}): 0.26666666666666666,\n",
       " frozenset({'cover', 'mouse'}): 0.2,\n",
       " frozenset({'laptop bag', 'mobile'}): 0.26666666666666666,\n",
       " frozenset({'laptop', 'mobile'}): 0.3333333333333333,\n",
       " frozenset({'mobile', 'mouse'}): 0.06666666666666667,\n",
       " frozenset({'earphones', 'laptop', 'laptop bag'}): 0.5333333333333333,\n",
       " frozenset({'earphones', 'laptop', 'pendrive'}): 0.3333333333333333,\n",
       " frozenset({'earphones', 'laptop bag', 'pendrive'}): 0.3333333333333333,\n",
       " frozenset({'laptop', 'laptop bag', 'pendrive'}): 0.5333333333333333}"
      ]
     },
     "execution_count": 18,
     "metadata": {},
     "output_type": "execute_result"
    }
   ],
   "source": [
    "SD"
   ]
  },
  {
   "cell_type": "code",
   "execution_count": null,
   "metadata": {},
   "outputs": [],
   "source": []
  }
 ],
 "metadata": {
  "kernelspec": {
   "display_name": "Python 3",
   "language": "python",
   "name": "python3"
  },
  "language_info": {
   "codemirror_mode": {
    "name": "ipython",
    "version": 3
   },
   "file_extension": ".py",
   "mimetype": "text/x-python",
   "name": "python",
   "nbconvert_exporter": "python",
   "pygments_lexer": "ipython3",
   "version": "3.6.4"
  }
 },
 "nbformat": 4,
 "nbformat_minor": 2
}

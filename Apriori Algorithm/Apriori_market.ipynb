{
 "cells": [
  {
   "cell_type": "code",
   "execution_count": 64,
   "metadata": {},
   "outputs": [],
   "source": [
    "def load_dataset():\n",
    "    \"Load the sample dataset.\"\n",
    "# return [[1,3,4],[2,3,5],[1,2,3,5],[2,5]]\n",
    "    return [['soya','milk','lettuce','butter'],['lettuce','diapers','wine','milk'],['soya','diapers','wine','orange juice'],['soya','milk','diapers','wine'],['soya','diapers','wine','milk']]"
   ]
  },
  {
   "cell_type": "code",
   "execution_count": 65,
   "metadata": {},
   "outputs": [],
   "source": [
    "from numpy import *"
   ]
  },
  {
   "cell_type": "code",
   "execution_count": 66,
   "metadata": {},
   "outputs": [],
   "source": [
    "d=load_dataset()"
   ]
  },
  {
   "cell_type": "code",
   "execution_count": 67,
   "metadata": {},
   "outputs": [
    {
     "data": {
      "text/plain": [
       "[['soya', 'milk', 'lettuce', 'butter'],\n",
       " ['lettuce', 'diapers', 'wine', 'milk'],\n",
       " ['soya', 'diapers', 'wine', 'orange juice'],\n",
       " ['soya', 'milk', 'diapers', 'wine'],\n",
       " ['soya', 'diapers', 'wine', 'milk']]"
      ]
     },
     "execution_count": 67,
     "metadata": {},
     "output_type": "execute_result"
    }
   ],
   "source": [
    "d"
   ]
  },
  {
   "cell_type": "code",
   "execution_count": 68,
   "metadata": {},
   "outputs": [],
   "source": [
    "def create_C1(dataset):\n",
    "    \"Create the list of candidate item sets of size one.\"\n",
    "    c1=[]\n",
    "    for transaction in dataset:\n",
    "        for item in transaction:\n",
    "            if not [item] in c1:\n",
    "                c1.append([item])\n",
    "    c1.sort()\n",
    "    return list(map(frozenset,c1))"
   ]
  },
  {
   "cell_type": "code",
   "execution_count": 69,
   "metadata": {},
   "outputs": [
    {
     "data": {
      "text/plain": [
       "[frozenset({'butter'}),\n",
       " frozenset({'diapers'}),\n",
       " frozenset({'lettuce'}),\n",
       " frozenset({'milk'}),\n",
       " frozenset({'orange juice'}),\n",
       " frozenset({'soya'}),\n",
       " frozenset({'wine'})]"
      ]
     },
     "execution_count": 69,
     "metadata": {},
     "output_type": "execute_result"
    }
   ],
   "source": [
    "X=load_dataset()\n",
    "create_C1(X)"
   ]
  },
  {
   "cell_type": "code",
   "execution_count": 70,
   "metadata": {},
   "outputs": [],
   "source": [
    "def scanD(dataset,candidates,min_support):\n",
    "    \"Returns all candidates that meets a minimum support level\"\n",
    "    sscnt={}\n",
    "    for tid in dataset:\n",
    "        for can in candidates:\n",
    "            if can.issubset(tid):\n",
    "                sscnt.setdefault(can,0)\n",
    "                sscnt[can]+=1\n",
    "    #print(\"----------\",sscnt)\n",
    "    num_items=float(len(dataset))\n",
    "    retlist=[]\n",
    "    support_data={}\n",
    "    for key in sscnt:\n",
    "        support=sscnt[key]/num_items\n",
    "        if support>=min_support:\n",
    "            retlist.insert(0,key)\n",
    "        support_data[key]=support\n",
    "    return retlist,support_data"
   ]
  },
  {
   "cell_type": "code",
   "execution_count": 71,
   "metadata": {},
   "outputs": [
    {
     "data": {
      "text/plain": [
       "[['soya', 'milk', 'lettuce', 'butter'],\n",
       " ['lettuce', 'diapers', 'wine', 'milk'],\n",
       " ['soya', 'diapers', 'wine', 'orange juice'],\n",
       " ['soya', 'milk', 'diapers', 'wine'],\n",
       " ['soya', 'diapers', 'wine', 'milk']]"
      ]
     },
     "execution_count": 71,
     "metadata": {},
     "output_type": "execute_result"
    }
   ],
   "source": [
    "dataset=load_dataset()\n",
    "dataset"
   ]
  },
  {
   "cell_type": "code",
   "execution_count": 72,
   "metadata": {},
   "outputs": [
    {
     "data": {
      "text/plain": [
       "[frozenset({'butter'}),\n",
       " frozenset({'diapers'}),\n",
       " frozenset({'lettuce'}),\n",
       " frozenset({'milk'}),\n",
       " frozenset({'orange juice'}),\n",
       " frozenset({'soya'}),\n",
       " frozenset({'wine'})]"
      ]
     },
     "execution_count": 72,
     "metadata": {},
     "output_type": "execute_result"
    }
   ],
   "source": [
    "c1=create_C1(dataset)\n",
    "c1"
   ]
  },
  {
   "cell_type": "code",
   "execution_count": 73,
   "metadata": {},
   "outputs": [
    {
     "data": {
      "text/plain": [
       "{frozenset({'butter'}): 0.2,\n",
       " frozenset({'lettuce'}): 0.4,\n",
       " frozenset({'milk'}): 0.8,\n",
       " frozenset({'soya'}): 0.8,\n",
       " frozenset({'diapers'}): 0.8,\n",
       " frozenset({'wine'}): 0.8,\n",
       " frozenset({'orange juice'}): 0.2}"
      ]
     },
     "execution_count": 73,
     "metadata": {},
     "output_type": "execute_result"
    }
   ],
   "source": [
    "L1,SD=scanD(dataset,c1,0.5)\n",
    "L1\n",
    "SD"
   ]
  },
  {
   "cell_type": "code",
   "execution_count": 74,
   "metadata": {},
   "outputs": [
    {
     "data": {
      "text/plain": [
       "[frozenset({'wine'}),\n",
       " frozenset({'diapers'}),\n",
       " frozenset({'soya'}),\n",
       " frozenset({'milk'})]"
      ]
     },
     "execution_count": 74,
     "metadata": {},
     "output_type": "execute_result"
    }
   ],
   "source": [
    "L1"
   ]
  },
  {
   "cell_type": "code",
   "execution_count": 75,
   "metadata": {},
   "outputs": [
    {
     "data": {
      "text/plain": [
       "{frozenset({'butter'}): 0.2,\n",
       " frozenset({'lettuce'}): 0.4,\n",
       " frozenset({'milk'}): 0.8,\n",
       " frozenset({'soya'}): 0.8,\n",
       " frozenset({'diapers'}): 0.8,\n",
       " frozenset({'wine'}): 0.8,\n",
       " frozenset({'orange juice'}): 0.2}"
      ]
     },
     "execution_count": 75,
     "metadata": {},
     "output_type": "execute_result"
    }
   ],
   "source": [
    "SD"
   ]
  },
  {
   "cell_type": "code",
   "execution_count": 76,
   "metadata": {},
   "outputs": [],
   "source": [
    "def aprioriGen(Lk,k):#creates CK\n",
    "    retList=[]\n",
    "    lenLk=len(Lk)\n",
    "    #print(\"lenoflk\",list(Lk[3])[:0])\n",
    "    for i in range(lenLk):\n",
    "        for j in range(i+1,lenLk):\n",
    "            L1=list(Lk[i])[:k-2]\n",
    "            L2=list(Lk[j])[:k-2]\n",
    "            L1.sort()\n",
    "            L2.sort()\n",
    "            if L1==L2: #if first k-2 elements are equal\n",
    "                retList.append(Lk[i]|Lk[j])\n",
    "                #print(retList)\n",
    "    return retList"
   ]
  },
  {
   "cell_type": "code",
   "execution_count": 77,
   "metadata": {},
   "outputs": [
    {
     "name": "stdout",
     "output_type": "stream",
     "text": [
      "+++++ [frozenset({'wine'}), frozenset({'diapers'}), frozenset({'soya'}), frozenset({'milk'})]\n",
      "[frozenset({'diapers', 'wine'}), frozenset({'soya', 'wine'}), frozenset({'milk', 'wine'}), frozenset({'soya', 'diapers'}), frozenset({'milk', 'diapers'}), frozenset({'milk', 'soya'})]\n"
     ]
    }
   ],
   "source": [
    "L1,supportData=scanD(dataset,c1,0.5)\n",
    "L=[L1]\n",
    "k=2\n",
    "print(\"+++++\",L[0])\n",
    "Ck=aprioriGen(L[k-2],k)\n",
    "print(Ck)"
   ]
  },
  {
   "cell_type": "code",
   "execution_count": 78,
   "metadata": {},
   "outputs": [],
   "source": [
    "def apriori(dataset,minSupport=0.40):\n",
    "    C1=create_C1(dataset)\n",
    "    D=list(map(set,dataset))#creating set\n",
    "    L1,supportData=scanD(D,C1,minSupport)\n",
    "    L=[L1]\n",
    "    k=2\n",
    "    while(len(L[k-2])>0):\n",
    "        Ck=aprioriGen(L[k-2],k)\n",
    "        Lk,supK=scanD(D,Ck,minSupport)#scan DB to get\n",
    "        supportData.update(supK)\n",
    "        L.append(Lk)\n",
    "        k+=1\n",
    "    return L,supportData"
   ]
  },
  {
   "cell_type": "code",
   "execution_count": 79,
   "metadata": {},
   "outputs": [],
   "source": [
    "L,SD=apriori(load_dataset())"
   ]
  },
  {
   "cell_type": "code",
   "execution_count": 80,
   "metadata": {},
   "outputs": [
    {
     "data": {
      "text/plain": [
       "[[frozenset({'wine'}),\n",
       "  frozenset({'diapers'}),\n",
       "  frozenset({'soya'}),\n",
       "  frozenset({'milk'}),\n",
       "  frozenset({'lettuce'})],\n",
       " [frozenset({'diapers', 'soya'}),\n",
       "  frozenset({'soya', 'wine'}),\n",
       "  frozenset({'diapers', 'milk'}),\n",
       "  frozenset({'milk', 'wine'}),\n",
       "  frozenset({'diapers', 'wine'}),\n",
       "  frozenset({'lettuce', 'milk'}),\n",
       "  frozenset({'milk', 'soya'})],\n",
       " [frozenset({'milk', 'soya', 'wine'}),\n",
       "  frozenset({'diapers', 'milk', 'soya'}),\n",
       "  frozenset({'diapers', 'soya', 'wine'}),\n",
       "  frozenset({'diapers', 'milk', 'wine'})],\n",
       " [frozenset({'diapers', 'milk', 'soya', 'wine'})],\n",
       " []]"
      ]
     },
     "execution_count": 80,
     "metadata": {},
     "output_type": "execute_result"
    }
   ],
   "source": [
    "L"
   ]
  },
  {
   "cell_type": "code",
   "execution_count": 81,
   "metadata": {},
   "outputs": [
    {
     "data": {
      "text/plain": [
       "{frozenset({'butter'}): 0.2,\n",
       " frozenset({'lettuce'}): 0.4,\n",
       " frozenset({'milk'}): 0.8,\n",
       " frozenset({'soya'}): 0.8,\n",
       " frozenset({'diapers'}): 0.8,\n",
       " frozenset({'wine'}): 0.8,\n",
       " frozenset({'orange juice'}): 0.2,\n",
       " frozenset({'milk', 'soya'}): 0.6,\n",
       " frozenset({'lettuce', 'soya'}): 0.2,\n",
       " frozenset({'lettuce', 'milk'}): 0.4,\n",
       " frozenset({'diapers', 'wine'}): 0.8,\n",
       " frozenset({'milk', 'wine'}): 0.6,\n",
       " frozenset({'lettuce', 'wine'}): 0.2,\n",
       " frozenset({'diapers', 'milk'}): 0.6,\n",
       " frozenset({'diapers', 'lettuce'}): 0.2,\n",
       " frozenset({'soya', 'wine'}): 0.6,\n",
       " frozenset({'diapers', 'soya'}): 0.6,\n",
       " frozenset({'lettuce', 'milk', 'soya'}): 0.2,\n",
       " frozenset({'diapers', 'milk', 'wine'}): 0.6,\n",
       " frozenset({'diapers', 'lettuce', 'milk'}): 0.2,\n",
       " frozenset({'lettuce', 'milk', 'wine'}): 0.2,\n",
       " frozenset({'diapers', 'soya', 'wine'}): 0.6,\n",
       " frozenset({'diapers', 'milk', 'soya'}): 0.4,\n",
       " frozenset({'milk', 'soya', 'wine'}): 0.4,\n",
       " frozenset({'diapers', 'milk', 'soya', 'wine'}): 0.4}"
      ]
     },
     "execution_count": 81,
     "metadata": {},
     "output_type": "execute_result"
    }
   ],
   "source": [
    "SD"
   ]
  },
  {
   "cell_type": "code",
   "execution_count": null,
   "metadata": {},
   "outputs": [],
   "source": []
  }
 ],
 "metadata": {
  "kernelspec": {
   "display_name": "Python 3",
   "language": "python",
   "name": "python3"
  },
  "language_info": {
   "codemirror_mode": {
    "name": "ipython",
    "version": 3
   },
   "file_extension": ".py",
   "mimetype": "text/x-python",
   "name": "python",
   "nbconvert_exporter": "python",
   "pygments_lexer": "ipython3",
   "version": "3.6.4"
  }
 },
 "nbformat": 4,
 "nbformat_minor": 2
}
